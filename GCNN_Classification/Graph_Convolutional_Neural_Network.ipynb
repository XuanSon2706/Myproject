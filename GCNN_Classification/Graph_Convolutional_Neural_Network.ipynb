{
  "cells": [
    {
      "cell_type": "code",
      "execution_count": null,
      "metadata": {
        "id": "gA19J57T9uQV"
      },
      "outputs": [],
      "source": [
        "import numpy as np\n",
        "import cv2 as cv\n",
        "import matplotlib.pyplot as plt\n",
        "import pandas as pd\n",
        "import os\n",
        "import time\n",
        "import itertools\n",
        "import seaborn as sns\n",
        "import torch\n",
        "import torch.nn as nn\n",
        "import torch.nn.functional as F\n",
        "import torch.optim as optim\n",
        "import torchvision\n",
        "from tqdm import tqdm\n",
        "from torch.utils.data import Dataset\n",
        "from scipy.spatial.distance import cdist\n",
        "from torchvision import transforms\n",
        "from sklearn.model_selection import train_test_split"
      ]
    },
    {
      "cell_type": "code",
      "source": [
        "#from google.colab import drive\n",
        "#drive.mount('/content/drive')"
      ],
      "metadata": {
        "id": "30vREo5bSsN7"
      },
      "execution_count": null,
      "outputs": []
    },
    {
      "cell_type": "code",
      "execution_count": null,
      "metadata": {
        "colab": {
          "base_uri": "https://localhost:8080/"
        },
        "id": "idsrbW2ROPPw",
        "outputId": "494cc000-b059-4ff9-c444-16cd321bfd26"
      },
      "outputs": [
        {
          "output_type": "stream",
          "name": "stdout",
          "text": [
            "cuda:0\n"
          ]
        }
      ],
      "source": [
        "device = torch.device(\"cuda:0\") if torch.cuda.is_available() else torch.device(\"cpu\")\n",
        "print(device)"
      ]
    },
    {
      "cell_type": "code",
      "execution_count": null,
      "metadata": {
        "id": "aDWD549QXm7S"
      },
      "outputs": [],
      "source": [
        "size = 2\n",
        "batch_size = 1\n",
        "epochs = 100"
      ]
    },
    {
      "cell_type": "code",
      "execution_count": null,
      "metadata": {
        "id": "_F31aVOytQRc"
      },
      "outputs": [],
      "source": [
        "\"\"\"\n",
        "class CustomImageDataset(Dataset):\n",
        "    def __init__(self, csv_file, img_dir, transform=None, target_transform=None):\n",
        "        self.img_labels = pd.read_csv(csv_file)\n",
        "        self.img_dir = img_dir\n",
        "        self.transform = transform\n",
        "        self.target_transform = target_transform\n",
        "\n",
        "    def __len__(self):\n",
        "        return len(self.img_labels)\n",
        "\n",
        "    def __getitem__(self, idx):\n",
        "        img_path = os.path.join(self.img_dir, self.img_labels.iloc[idx, 0])\n",
        "        read_img = cv.imread(img_path,cv.IMREAD_GRAYSCALE)\n",
        "        image = cv.resize(read_img,(size,size))\n",
        "        label = self.img_labels.iloc[idx, 1]\n",
        "        if self.transform:\n",
        "            image = self.transform(image)\n",
        "        if self.target_transform:\n",
        "            label = self.target_transform(label)\n",
        "        return image, label\n",
        "\"\"\""
      ]
    },
    {
      "cell_type": "code",
      "execution_count": null,
      "metadata": {
        "id": "svFxJWcZWl-V"
      },
      "outputs": [],
      "source": [
        "\"\"\"\n",
        "path_data_train = \"/content/drive/MyDrive/Dataset_MRI_Brain/Data_training\"\n",
        "path_csv_train = \"/content/drive/MyDrive/Dataset_MRI_Brain/Training.csv\"\n",
        "path_data_test = \"/content/drive/MyDrive/Dataset_MRI_Brain/Data_testing\"\n",
        "path_csv_test = \"/content/drive/MyDrive/Dataset_MRI_Brain/Testing.csv\"\n",
        "\n",
        "train_dataset = CustomImageDataset(csv_file = path_csv_train , img_dir = path_data_train, transform = transforms.ToTensor(),\n",
        "                               target_transform = transforms.Compose([\n",
        "                                  lambda x:torch.LongTensor([x]),\n",
        "                                  #lambda x:F.one_hot(x, 4)\n",
        "                                 ]))\n",
        "\n",
        "test_dataset = CustomImageDataset(csv_file = path_csv_test , img_dir = path_data_test, transform = transforms.ToTensor(),\n",
        "                               target_transform = transforms.Compose([\n",
        "                                  lambda x:torch.LongTensor([x]),\n",
        "                                  #lambda x:F.one_hot(x, 4)\n",
        "                                 ]))\n",
        "\"\"\""
      ]
    },
    {
      "cell_type": "code",
      "execution_count": null,
      "metadata": {
        "id": "RDS4e4NO-oKT"
      },
      "outputs": [],
      "source": [
        "train_dataset = torchvision.datasets.MNIST('/files/', train=True, download=True, transform = transforms.Compose([transforms.ToTensor(), transforms.Resize((size, size))]),\n",
        "                              target_transform = transforms.Compose([\n",
        "                                lambda x:torch.LongTensor([x]),\n",
        "                                ]))\n",
        "test_dataset = torchvision.datasets.MNIST('/files/', train=False, download=True, transform = transforms.Compose([transforms.ToTensor(), transforms.Resize((size, size))]),\n",
        "                              target_transform = transforms.Compose([\n",
        "                                lambda x:torch.LongTensor([x]),\n",
        "                               ]))"
      ]
    },
    {
      "cell_type": "code",
      "execution_count": null,
      "metadata": {
        "id": "3RqiYyAaPpJw"
      },
      "outputs": [],
      "source": [
        "#train_indices, val_indices, _, _ = train_test_split(\n",
        "#    range(len(train_dataset)),\n",
        "#    train_dataset.targets,\n",
        "#    stratify=train_dataset.targets,\n",
        "#    test_size=0.1,\n",
        "#)\n",
        "#train_split = torch.utils.data.Subset(train_dataset, train_indices)\n",
        "#val_split = torch.utils.data.Subset(train_dataset, val_indices)\n",
        "\n",
        "train_split, val_split = torch.utils.data.random_split(train_dataset, [45000, 15000])\n",
        "\n",
        "train_loader = torch.utils.data.DataLoader(train_split, batch_size=batch_size, shuffle=False)\n",
        "val_loader = torch.utils.data.DataLoader(val_split, batch_size=batch_size, shuffle=True)\n",
        "test_loader = torch.utils.data.DataLoader(test_dataset, batch_size=batch_size, shuffle=False)\n",
        "\n",
        "print(len(train_loader), len(val_loader), len(test_loader))"
      ]
    },
    {
      "cell_type": "code",
      "execution_count": null,
      "metadata": {
        "id": "88H-2tHaDDpu"
      },
      "outputs": [],
      "source": [
        "col, row = np.meshgrid(np.arange(size), np.arange(size))\n",
        "coord = np.stack((col, row), axis = 2).reshape(-1, 2)\n",
        "distance = torch.from_numpy(cdist(coord, coord)).float().to(device)\n",
        "sigma_distance = torch.var(distance)"
      ]
    },
    {
      "cell_type": "code",
      "execution_count": null,
      "metadata": {
        "id": "cRCPBoiNXF2u"
      },
      "outputs": [],
      "source": [
        "def create_graph_shift_operator(img):\n",
        "    #grayscale = img.reshape(-1,1)\n",
        "    #gray_different = torch.from_numpy(cdist(grayscale, grayscale)).float().to(device)\n",
        "    #sigma_grayscale = torch.var(gray_different)\n",
        "\n",
        "    adjcency_matrix = torch.exp(-distance**2 / sigma_distance) #* torch.exp(-gray_different**2 / sigma_grayscale)\n",
        "    adjcency_matrix[adjcency_matrix < 0.01] = 0\n",
        "    #adjcency_matrix = adjcency_matrix + torch.eye(size * size).to(device)\n",
        "\n",
        "    degree_matrix = torch.diag(torch.sum(adjcency_matrix, axis=1))\n",
        "    degree_matrix_hat = torch.sqrt(torch.linalg.inv(degree_matrix))\n",
        "\n",
        "    graph_shift_operator = torch.matmul(degree_matrix_hat, torch.matmul(adjcency_matrix, degree_matrix_hat))\n",
        "    \n",
        "    return graph_shift_operator"
      ]
    },
    {
      "cell_type": "code",
      "execution_count": null,
      "metadata": {
        "id": "rc84DqoWXQr1"
      },
      "outputs": [],
      "source": [
        "class GraphConv(nn.Module):\n",
        "    def __init__(self, in_features, out_features):\n",
        "        super(GraphConv, self).__init__()\n",
        "        self.in_features = in_features\n",
        "        self.out_features = out_features\n",
        "        self.projection = nn.Linear(in_features, out_features, bias=False)\n",
        "\n",
        "    def forward(self, input, graph_shift_operator):\n",
        "        batch_size = input.size(0)\n",
        "        support = self.projection(input)\n",
        "        # output = torch.mm(graph_shift_operator, support)\n",
        "        output = torch.stack([torch.mm(graph_shift_operator[b], support[b]) for b in range(batch_size)])\n",
        "        return output"
      ]
    },
    {
      "cell_type": "code",
      "execution_count": null,
      "metadata": {
        "id": "5uRdT3wfXcad"
      },
      "outputs": [],
      "source": [
        "class GCN(nn.Module):\n",
        "    def __init__(self, img_size, nfeat, nclass, dropout):\n",
        "        super(GCN, self).__init__()\n",
        "        self.N = img_size ** 2\n",
        "        self.gc1 = GraphConv(nfeat, 4)\n",
        "        self.gc2 = GraphConv(4, 128)\n",
        "        self.gc3 = GraphConv(128, 512)\n",
        "        self.gc4 = GraphConv(512, 64)\n",
        "        self.gc5 = GraphConv(64, 24)\n",
        "        self.gc6 = GraphConv(24, 12)\n",
        "        self.gc7 = GraphConv(12, 8)\n",
        "        self.gc8 = GraphConv(8, 4)\n",
        "        self.gc9 = GraphConv(4, 1)\n",
        "        self.dropout = dropout\n",
        "        self.fc = nn.Linear(self.N, nclass, bias=False)\n",
        "        self.init_weights()\n",
        "\n",
        "    def init_weights(self):\n",
        "        for p in self.parameters():\n",
        "            if p.dim() > 1:\n",
        "                nn.init.xavier_uniform_(p)\n",
        "\n",
        "    def forward(self, x, graph_shift_operator):\n",
        "        batch_size = x.size(0)\n",
        "        x = F.relu(self.gc1(x, graph_shift_operator))\n",
        "        x = F.relu(self.gc2(x, graph_shift_operator))\n",
        "        x = F.dropout(x, self.dropout, training=self.training)\n",
        "        x = F.relu(self.gc3(x, graph_shift_operator))\n",
        "        x = F.relu(self.gc4(x, graph_shift_operator))\n",
        "        x = F.dropout(x, self.dropout, training=self.training)\n",
        "        x = F.relu(self.gc5(x, graph_shift_operator))\n",
        "        x = F.relu(self.gc6(x, graph_shift_operator))\n",
        "        x = F.dropout(x, self.dropout, training=self.training)\n",
        "        x = F.relu(self.gc7(x, graph_shift_operator))\n",
        "        x = F.relu(self.gc8(x, graph_shift_operator))\n",
        "        x = self.gc9(x, graph_shift_operator)\n",
        "        \n",
        "        \n",
        "        \n",
        "        x = self.fc(x.reshape(batch_size, 1, -1))\n",
        "        return x\n",
        "\n",
        "    def loss(self, pred, label):\n",
        "        loss = nn.CrossEntropyLoss()\n",
        "        return loss(pred, label)"
      ]
    },
    {
      "cell_type": "code",
      "execution_count": null,
      "metadata": {
        "id": "U3XOIBU0Xg0G",
        "colab": {
          "base_uri": "https://localhost:8080/"
        },
        "outputId": "b2422f0c-672f-4b15-f137-17e051689bf2"
      },
      "outputs": [
        {
          "output_type": "execute_result",
          "data": {
            "text/plain": [
              "GCN(\n",
              "  (gc1): GraphConv(\n",
              "    (projection): Linear(in_features=1, out_features=4, bias=False)\n",
              "  )\n",
              "  (gc2): GraphConv(\n",
              "    (projection): Linear(in_features=4, out_features=128, bias=False)\n",
              "  )\n",
              "  (gc3): GraphConv(\n",
              "    (projection): Linear(in_features=128, out_features=512, bias=False)\n",
              "  )\n",
              "  (gc4): GraphConv(\n",
              "    (projection): Linear(in_features=512, out_features=64, bias=False)\n",
              "  )\n",
              "  (gc5): GraphConv(\n",
              "    (projection): Linear(in_features=64, out_features=24, bias=False)\n",
              "  )\n",
              "  (gc6): GraphConv(\n",
              "    (projection): Linear(in_features=24, out_features=12, bias=False)\n",
              "  )\n",
              "  (gc7): GraphConv(\n",
              "    (projection): Linear(in_features=12, out_features=8, bias=False)\n",
              "  )\n",
              "  (gc8): GraphConv(\n",
              "    (projection): Linear(in_features=8, out_features=4, bias=False)\n",
              "  )\n",
              "  (gc9): GraphConv(\n",
              "    (projection): Linear(in_features=4, out_features=1, bias=False)\n",
              "  )\n",
              "  (fc): Linear(in_features=4, out_features=10, bias=False)\n",
              ")"
            ]
          },
          "metadata": {},
          "execution_count": 13
        }
      ],
      "source": [
        "model = GCN(img_size=size, nfeat=1, nclass=10, dropout=0.5)\n",
        "model.to(device)"
      ]
    },
    {
      "cell_type": "code",
      "execution_count": null,
      "metadata": {
        "id": "QqtCzFgsF5I-"
      },
      "outputs": [],
      "source": [
        "optimizer = optim.Adam(model.parameters(), lr=0.001)"
      ]
    },
    {
      "cell_type": "code",
      "execution_count": null,
      "metadata": {
        "id": "1mDnimHCXkHi",
        "colab": {
          "base_uri": "https://localhost:8080/",
          "height": 1000
        },
        "outputId": "ee080b11-0c25-4b40-fdb9-a4b3fa9e50e1"
      },
      "outputs": [
        {
          "output_type": "stream",
          "name": "stderr",
          "text": [
            "\r  0%|          | 0/45000 [00:00<?, ?it/s]"
          ]
        },
        {
          "output_type": "stream",
          "name": "stdout",
          "text": [
            "torch.Size([1, 1, 2, 2])\n"
          ]
        },
        {
          "output_type": "stream",
          "name": "stderr",
          "text": [
            "  0%|          | 20/45000 [00:03<1:41:26,  7.39it/s]"
          ]
        },
        {
          "output_type": "stream",
          "name": "stdout",
          "text": [
            "torch.Size([1, 1, 2, 2])\n",
            "torch.Size([1, 1, 2, 2])\n",
            "torch.Size([1, 1, 2, 2])\n",
            "torch.Size([1, 1, 2, 2])\n",
            "torch.Size([1, 1, 2, 2])\n",
            "torch.Size([1, 1, 2, 2])\n",
            "torch.Size([1, 1, 2, 2])\n",
            "torch.Size([1, 1, 2, 2])\n",
            "torch.Size([1, 1, 2, 2])\n",
            "torch.Size([1, 1, 2, 2])\n",
            "torch.Size([1, 1, 2, 2])\n",
            "torch.Size([1, 1, 2, 2])\n",
            "torch.Size([1, 1, 2, 2])\n",
            "torch.Size([1, 1, 2, 2])\n",
            "torch.Size([1, 1, 2, 2])\n",
            "torch.Size([1, 1, 2, 2])\n",
            "torch.Size([1, 1, 2, 2])\n",
            "torch.Size([1, 1, 2, 2])\n",
            "torch.Size([1, 1, 2, 2])\n",
            "torch.Size([1, 1, 2, 2])\n",
            "torch.Size([1, 1, 2, 2])\n",
            "torch.Size([1, 1, 2, 2])\n",
            "torch.Size([1, 1, 2, 2])\n",
            "torch.Size([1, 1, 2, 2])\n",
            "torch.Size([1, 1, 2, 2])\n",
            "torch.Size([1, 1, 2, 2])\n",
            "torch.Size([1, 1, 2, 2])\n",
            "torch.Size([1, 1, 2, 2])\n",
            "torch.Size([1, 1, 2, 2])\n",
            "torch.Size([1, 1, 2, 2])\n",
            "torch.Size([1, 1, 2, 2])\n",
            "torch.Size([1, 1, 2, 2])\n",
            "torch.Size([1, 1, 2, 2])\n",
            "torch.Size([1, 1, 2, 2])\n",
            "torch.Size([1, 1, 2, 2])\n",
            "torch.Size([1, 1, 2, 2])\n",
            "torch.Size([1, 1, 2, 2])\n",
            "torch.Size([1, 1, 2, 2])\n",
            "torch.Size([1, 1, 2, 2])\n"
          ]
        },
        {
          "output_type": "stream",
          "name": "stderr",
          "text": [
            "  0%|          | 60/45000 [00:03<25:29, 29.38it/s]"
          ]
        },
        {
          "output_type": "stream",
          "name": "stdout",
          "text": [
            "torch.Size([1, 1, 2, 2])\n",
            "torch.Size([1, 1, 2, 2])\n",
            "torch.Size([1, 1, 2, 2])\n",
            "torch.Size([1, 1, 2, 2])\n",
            "torch.Size([1, 1, 2, 2])\n",
            "torch.Size([1, 1, 2, 2])\n",
            "torch.Size([1, 1, 2, 2])\n",
            "torch.Size([1, 1, 2, 2])\n",
            "torch.Size([1, 1, 2, 2])\n",
            "torch.Size([1, 1, 2, 2])\n",
            "torch.Size([1, 1, 2, 2])\n",
            "torch.Size([1, 1, 2, 2])\n",
            "torch.Size([1, 1, 2, 2])\n",
            "torch.Size([1, 1, 2, 2])\n",
            "torch.Size([1, 1, 2, 2])\n",
            "torch.Size([1, 1, 2, 2])\n",
            "torch.Size([1, 1, 2, 2])\n",
            "torch.Size([1, 1, 2, 2])\n",
            "torch.Size([1, 1, 2, 2])\n",
            "torch.Size([1, 1, 2, 2])\n",
            "torch.Size([1, 1, 2, 2])\n",
            "torch.Size([1, 1, 2, 2])\n",
            "torch.Size([1, 1, 2, 2])\n",
            "torch.Size([1, 1, 2, 2])\n",
            "torch.Size([1, 1, 2, 2])\n",
            "torch.Size([1, 1, 2, 2])\n",
            "torch.Size([1, 1, 2, 2])\n",
            "torch.Size([1, 1, 2, 2])\n",
            "torch.Size([1, 1, 2, 2])\n",
            "torch.Size([1, 1, 2, 2])\n",
            "torch.Size([1, 1, 2, 2])\n",
            "torch.Size([1, 1, 2, 2])\n",
            "torch.Size([1, 1, 2, 2])\n",
            "torch.Size([1, 1, 2, 2])\n",
            "torch.Size([1, 1, 2, 2])\n",
            "torch.Size([1, 1, 2, 2])\n",
            "torch.Size([1, 1, 2, 2])\n",
            "torch.Size([1, 1, 2, 2])\n",
            "torch.Size([1, 1, 2, 2])\n"
          ]
        },
        {
          "output_type": "stream",
          "name": "stderr",
          "text": [
            "  0%|          | 96/45000 [00:04<13:11, 56.73it/s]"
          ]
        },
        {
          "output_type": "stream",
          "name": "stdout",
          "text": [
            "torch.Size([1, 1, 2, 2])\n",
            "torch.Size([1, 1, 2, 2])\n",
            "torch.Size([1, 1, 2, 2])\n",
            "torch.Size([1, 1, 2, 2])\n",
            "torch.Size([1, 1, 2, 2])\n",
            "torch.Size([1, 1, 2, 2])\n",
            "torch.Size([1, 1, 2, 2])\n",
            "torch.Size([1, 1, 2, 2])\n",
            "torch.Size([1, 1, 2, 2])\n",
            "torch.Size([1, 1, 2, 2])\n",
            "torch.Size([1, 1, 2, 2])\n",
            "torch.Size([1, 1, 2, 2])\n",
            "torch.Size([1, 1, 2, 2])\n",
            "torch.Size([1, 1, 2, 2])\n",
            "torch.Size([1, 1, 2, 2])\n",
            "torch.Size([1, 1, 2, 2])\n",
            "torch.Size([1, 1, 2, 2])\n",
            "torch.Size([1, 1, 2, 2])\n",
            "torch.Size([1, 1, 2, 2])\n",
            "torch.Size([1, 1, 2, 2])\n",
            "torch.Size([1, 1, 2, 2])\n",
            "torch.Size([1, 1, 2, 2])\n",
            "torch.Size([1, 1, 2, 2])\n",
            "torch.Size([1, 1, 2, 2])\n",
            "torch.Size([1, 1, 2, 2])\n",
            "torch.Size([1, 1, 2, 2])\n",
            "torch.Size([1, 1, 2, 2])\n",
            "torch.Size([1, 1, 2, 2])\n",
            "torch.Size([1, 1, 2, 2])\n",
            "torch.Size([1, 1, 2, 2])\n",
            "torch.Size([1, 1, 2, 2])\n",
            "torch.Size([1, 1, 2, 2])\n",
            "torch.Size([1, 1, 2, 2])\n",
            "torch.Size([1, 1, 2, 2])\n",
            "torch.Size([1, 1, 2, 2])\n"
          ]
        },
        {
          "output_type": "stream",
          "name": "stderr",
          "text": [
            "  0%|          | 133/45000 [00:04<09:00, 83.03it/s]"
          ]
        },
        {
          "output_type": "stream",
          "name": "stdout",
          "text": [
            "torch.Size([1, 1, 2, 2])\n",
            "torch.Size([1, 1, 2, 2])\n",
            "torch.Size([1, 1, 2, 2])\n",
            "torch.Size([1, 1, 2, 2])\n",
            "torch.Size([1, 1, 2, 2])\n",
            "torch.Size([1, 1, 2, 2])\n",
            "torch.Size([1, 1, 2, 2])\n",
            "torch.Size([1, 1, 2, 2])\n",
            "torch.Size([1, 1, 2, 2])\n",
            "torch.Size([1, 1, 2, 2])\n",
            "torch.Size([1, 1, 2, 2])\n",
            "torch.Size([1, 1, 2, 2])\n",
            "torch.Size([1, 1, 2, 2])\n",
            "torch.Size([1, 1, 2, 2])\n",
            "torch.Size([1, 1, 2, 2])\n",
            "torch.Size([1, 1, 2, 2])\n",
            "torch.Size([1, 1, 2, 2])\n",
            "torch.Size([1, 1, 2, 2])\n",
            "torch.Size([1, 1, 2, 2])\n",
            "torch.Size([1, 1, 2, 2])\n",
            "torch.Size([1, 1, 2, 2])\n",
            "torch.Size([1, 1, 2, 2])\n",
            "torch.Size([1, 1, 2, 2])\n"
          ]
        },
        {
          "output_type": "stream",
          "name": "stderr",
          "text": [
            "\r  0%|          | 149/45000 [00:04<08:35, 87.05it/s]"
          ]
        },
        {
          "output_type": "stream",
          "name": "stdout",
          "text": [
            "torch.Size([1, 1, 2, 2])\n",
            "torch.Size([1, 1, 2, 2])\n",
            "torch.Size([1, 1, 2, 2])\n",
            "torch.Size([1, 1, 2, 2])\n",
            "torch.Size([1, 1, 2, 2])\n",
            "torch.Size([1, 1, 2, 2])\n",
            "torch.Size([1, 1, 2, 2])\n",
            "torch.Size([1, 1, 2, 2])\n",
            "torch.Size([1, 1, 2, 2])\n",
            "torch.Size([1, 1, 2, 2])\n",
            "torch.Size([1, 1, 2, 2])\n",
            "torch.Size([1, 1, 2, 2])\n",
            "torch.Size([1, 1, 2, 2])\n",
            "torch.Size([1, 1, 2, 2])\n",
            "torch.Size([1, 1, 2, 2])\n",
            "torch.Size([1, 1, 2, 2])\n",
            "torch.Size([1, 1, 2, 2])\n",
            "torch.Size([1, 1, 2, 2])\n",
            "torch.Size([1, 1, 2, 2])\n",
            "torch.Size([1, 1, 2, 2])\n",
            "torch.Size([1, 1, 2, 2])\n",
            "torch.Size([1, 1, 2, 2])\n"
          ]
        },
        {
          "output_type": "stream",
          "name": "stderr",
          "text": [
            "  0%|          | 176/45000 [00:04<07:51, 95.14it/s]"
          ]
        },
        {
          "output_type": "stream",
          "name": "stdout",
          "text": [
            "torch.Size([1, 1, 2, 2])\n",
            "torch.Size([1, 1, 2, 2])\n",
            "torch.Size([1, 1, 2, 2])\n",
            "torch.Size([1, 1, 2, 2])\n",
            "torch.Size([1, 1, 2, 2])\n",
            "torch.Size([1, 1, 2, 2])\n",
            "torch.Size([1, 1, 2, 2])\n",
            "torch.Size([1, 1, 2, 2])\n",
            "torch.Size([1, 1, 2, 2])\n",
            "torch.Size([1, 1, 2, 2])\n",
            "torch.Size([1, 1, 2, 2])\n",
            "torch.Size([1, 1, 2, 2])\n",
            "torch.Size([1, 1, 2, 2])\n",
            "torch.Size([1, 1, 2, 2])\n",
            "torch.Size([1, 1, 2, 2])\n",
            "torch.Size([1, 1, 2, 2])\n",
            "torch.Size([1, 1, 2, 2])\n",
            "torch.Size([1, 1, 2, 2])\n",
            "torch.Size([1, 1, 2, 2])\n",
            "torch.Size([1, 1, 2, 2])\n",
            "torch.Size([1, 1, 2, 2])"
          ]
        },
        {
          "output_type": "stream",
          "name": "stderr",
          "text": [
            "  0%|          | 203/45000 [00:05<06:58, 107.10it/s]"
          ]
        },
        {
          "output_type": "stream",
          "name": "stdout",
          "text": [
            "\n",
            "torch.Size([1, 1, 2, 2])\n",
            "torch.Size([1, 1, 2, 2])\n",
            "torch.Size([1, 1, 2, 2])\n",
            "torch.Size([1, 1, 2, 2])\n",
            "torch.Size([1, 1, 2, 2])\n",
            "torch.Size([1, 1, 2, 2])\n",
            "torch.Size([1, 1, 2, 2])\n",
            "torch.Size([1, 1, 2, 2])\n",
            "torch.Size([1, 1, 2, 2])\n",
            "torch.Size([1, 1, 2, 2])\n",
            "torch.Size([1, 1, 2, 2])\n",
            "torch.Size([1, 1, 2, 2])\n",
            "torch.Size([1, 1, 2, 2])\n",
            "torch.Size([1, 1, 2, 2])\n",
            "torch.Size([1, 1, 2, 2])\n",
            "torch.Size([1, 1, 2, 2])\n",
            "torch.Size([1, 1, 2, 2])\n",
            "torch.Size([1, 1, 2, 2])\n",
            "torch.Size([1, 1, 2, 2])\n",
            "torch.Size([1, 1, 2, 2])\n",
            "torch.Size([1, 1, 2, 2])\n",
            "torch.Size([1, 1, 2, 2])\n",
            "torch.Size([1, 1, 2, 2])\n",
            "torch.Size([1, 1, 2, 2])\n",
            "torch.Size([1, 1, 2, 2])\n",
            "torch.Size([1, 1, 2, 2])\n"
          ]
        },
        {
          "output_type": "stream",
          "name": "stderr",
          "text": [
            "\r  0%|          | 216/45000 [00:05<06:49, 109.36it/s]"
          ]
        },
        {
          "output_type": "stream",
          "name": "stdout",
          "text": [
            "torch.Size([1, 1, 2, 2])\n",
            "torch.Size([1, 1, 2, 2])\n",
            "torch.Size([1, 1, 2, 2])\n",
            "torch.Size([1, 1, 2, 2])\n",
            "torch.Size([1, 1, 2, 2])\n",
            "torch.Size([1, 1, 2, 2])\n",
            "torch.Size([1, 1, 2, 2])\n",
            "torch.Size([1, 1, 2, 2])\n",
            "torch.Size([1, 1, 2, 2])\n",
            "torch.Size([1, 1, 2, 2])\n",
            "torch.Size([1, 1, 2, 2])\n",
            "torch.Size([1, 1, 2, 2])\n",
            "torch.Size([1, 1, 2, 2])\n",
            "torch.Size([1, 1, 2, 2])\n",
            "torch.Size([1, 1, 2, 2])\n",
            "torch.Size([1, 1, 2, 2])\n",
            "torch.Size([1, 1, 2, 2])\n",
            "torch.Size([1, 1, 2, 2])\n",
            "torch.Size([1, 1, 2, 2])\n",
            "torch.Size([1, 1, 2, 2])\n",
            "torch.Size([1, 1, 2, 2])\n",
            "torch.Size([1, 1, 2, 2])\n"
          ]
        },
        {
          "output_type": "stream",
          "name": "stderr",
          "text": [
            "  1%|          | 241/45000 [00:05<07:10, 103.96it/s]"
          ]
        },
        {
          "output_type": "stream",
          "name": "stdout",
          "text": [
            "torch.Size([1, 1, 2, 2])\n",
            "torch.Size([1, 1, 2, 2])\n",
            "torch.Size([1, 1, 2, 2])\n",
            "torch.Size([1, 1, 2, 2])\n",
            "torch.Size([1, 1, 2, 2])\n",
            "torch.Size([1, 1, 2, 2])\n",
            "torch.Size([1, 1, 2, 2])\n",
            "torch.Size([1, 1, 2, 2])\n",
            "torch.Size([1, 1, 2, 2])\n",
            "torch.Size([1, 1, 2, 2])\n",
            "torch.Size([1, 1, 2, 2])\n",
            "torch.Size([1, 1, 2, 2])\n",
            "torch.Size([1, 1, 2, 2])\n",
            "torch.Size([1, 1, 2, 2])\n",
            "torch.Size([1, 1, 2, 2])\n",
            "torch.Size([1, 1, 2, 2])\n",
            "torch.Size([1, 1, 2, 2])\n",
            "torch.Size([1, 1, 2, 2])\n"
          ]
        },
        {
          "output_type": "stream",
          "name": "stderr",
          "text": [
            "  1%|          | 266/45000 [00:05<06:50, 108.85it/s]"
          ]
        },
        {
          "output_type": "stream",
          "name": "stdout",
          "text": [
            "torch.Size([1, 1, 2, 2])\n",
            "torch.Size([1, 1, 2, 2])\n",
            "torch.Size([1, 1, 2, 2])\n",
            "torch.Size([1, 1, 2, 2])\n",
            "torch.Size([1, 1, 2, 2])\n",
            "torch.Size([1, 1, 2, 2])\n",
            "torch.Size([1, 1, 2, 2])\n",
            "torch.Size([1, 1, 2, 2])\n",
            "torch.Size([1, 1, 2, 2])\n",
            "torch.Size([1, 1, 2, 2])\n",
            "torch.Size([1, 1, 2, 2])\n",
            "torch.Size([1, 1, 2, 2])\n",
            "torch.Size([1, 1, 2, 2])\n",
            "torch.Size([1, 1, 2, 2])\n",
            "torch.Size([1, 1, 2, 2])\n",
            "torch.Size([1, 1, 2, 2])\n",
            "torch.Size([1, 1, 2, 2])\n",
            "torch.Size([1, 1, 2, 2])\n",
            "torch.Size([1, 1, 2, 2])\n",
            "torch.Size([1, 1, 2, 2])\n",
            "torch.Size([1, 1, 2, 2])\n",
            "torch.Size([1, 1, 2, 2])\n",
            "torch.Size([1, 1, 2, 2])\n",
            "torch.Size([1, 1, 2, 2])\n"
          ]
        },
        {
          "output_type": "stream",
          "name": "stderr",
          "text": [
            "  1%|          | 289/45000 [00:05<07:15, 102.61it/s]"
          ]
        },
        {
          "output_type": "stream",
          "name": "stdout",
          "text": [
            "torch.Size([1, 1, 2, 2])\n",
            "torch.Size([1, 1, 2, 2])\n",
            "torch.Size([1, 1, 2, 2])\n",
            "torch.Size([1, 1, 2, 2])\n",
            "torch.Size([1, 1, 2, 2])\n",
            "torch.Size([1, 1, 2, 2])\n",
            "torch.Size([1, 1, 2, 2])\n",
            "torch.Size([1, 1, 2, 2])\n",
            "torch.Size([1, 1, 2, 2])\n",
            "torch.Size([1, 1, 2, 2])\n",
            "torch.Size([1, 1, 2, 2])\n",
            "torch.Size([1, 1, 2, 2])\n",
            "torch.Size([1, 1, 2, 2])\n",
            "torch.Size([1, 1, 2, 2])\n",
            "torch.Size([1, 1, 2, 2])\n",
            "torch.Size([1, 1, 2, 2])\n",
            "torch.Size([1, 1, 2, 2])\n",
            "torch.Size([1, 1, 2, 2])\n",
            "torch.Size([1, 1, 2, 2])\n"
          ]
        },
        {
          "output_type": "stream",
          "name": "stderr",
          "text": [
            "  1%|          | 312/45000 [00:06<06:59, 106.54it/s]"
          ]
        },
        {
          "output_type": "stream",
          "name": "stdout",
          "text": [
            "torch.Size([1, 1, 2, 2])\n",
            "torch.Size([1, 1, 2, 2])\n",
            "torch.Size([1, 1, 2, 2])\n",
            "torch.Size([1, 1, 2, 2])\n",
            "torch.Size([1, 1, 2, 2])\n",
            "torch.Size([1, 1, 2, 2])\n",
            "torch.Size([1, 1, 2, 2])\n",
            "torch.Size([1, 1, 2, 2])\n",
            "torch.Size([1, 1, 2, 2])\n",
            "torch.Size([1, 1, 2, 2])\n",
            "torch.Size([1, 1, 2, 2])\n",
            "torch.Size([1, 1, 2, 2])\n",
            "torch.Size([1, 1, 2, 2])\n",
            "torch.Size([1, 1, 2, 2])\n",
            "torch.Size([1, 1, 2, 2])\n",
            "torch.Size([1, 1, 2, 2])\n",
            "torch.Size([1, 1, 2, 2])\n",
            "torch.Size([1, 1, 2, 2])\n",
            "torch.Size([1, 1, 2, 2])\n",
            "torch.Size([1, 1, 2, 2])\n",
            "torch.Size([1, 1, 2, 2])\n",
            "torch.Size([1, 1, 2, 2])\n",
            "torch.Size([1, 1, 2, 2])\n"
          ]
        },
        {
          "output_type": "stream",
          "name": "stderr",
          "text": [
            "\r  1%|          | 323/45000 [00:06<07:46, 95.70it/s] "
          ]
        },
        {
          "output_type": "stream",
          "name": "stdout",
          "text": [
            "torch.Size([1, 1, 2, 2])\n",
            "torch.Size([1, 1, 2, 2])\n",
            "torch.Size([1, 1, 2, 2])\n",
            "torch.Size([1, 1, 2, 2])\n",
            "torch.Size([1, 1, 2, 2])\n",
            "torch.Size([1, 1, 2, 2])\n",
            "torch.Size([1, 1, 2, 2])\n",
            "torch.Size([1, 1, 2, 2])\n",
            "torch.Size([1, 1, 2, 2])\n",
            "torch.Size([1, 1, 2, 2])\n",
            "torch.Size([1, 1, 2, 2])\n",
            "torch.Size([1, 1, 2, 2])\n",
            "torch.Size([1, 1, 2, 2])\n",
            "torch.Size([1, 1, 2, 2])\n",
            "torch.Size([1, 1, 2, 2])\n",
            "torch.Size([1, 1, 2, 2])\n",
            "torch.Size([1, 1, 2, 2])\n",
            "torch.Size([1, 1, 2, 2])\n"
          ]
        },
        {
          "output_type": "stream",
          "name": "stderr",
          "text": [
            "  1%|          | 344/45000 [00:06<07:55, 93.88it/s]"
          ]
        },
        {
          "output_type": "stream",
          "name": "stdout",
          "text": [
            "torch.Size([1, 1, 2, 2])\n",
            "torch.Size([1, 1, 2, 2])\n",
            "torch.Size([1, 1, 2, 2])\n",
            "torch.Size([1, 1, 2, 2])\n",
            "torch.Size([1, 1, 2, 2])\n",
            "torch.Size([1, 1, 2, 2])\n",
            "torch.Size([1, 1, 2, 2])\n",
            "torch.Size([1, 1, 2, 2])\n",
            "torch.Size([1, 1, 2, 2])\n",
            "torch.Size([1, 1, 2, 2])\n",
            "torch.Size([1, 1, 2, 2])\n",
            "torch.Size([1, 1, 2, 2])\n",
            "torch.Size([1, 1, 2, 2])\n",
            "torch.Size([1, 1, 2, 2])\n",
            "torch.Size([1, 1, 2, 2])\n",
            "torch.Size([1, 1, 2, 2])\n",
            "torch.Size([1, 1, 2, 2])\n",
            "torch.Size([1, 1, 2, 2])\n",
            "torch.Size([1, 1, 2, 2])\n",
            "torch.Size([1, 1, 2, 2])\n"
          ]
        },
        {
          "output_type": "stream",
          "name": "stderr",
          "text": [
            "  1%|          | 366/45000 [00:06<07:32, 98.66it/s]"
          ]
        },
        {
          "output_type": "stream",
          "name": "stdout",
          "text": [
            "torch.Size([1, 1, 2, 2])\n",
            "torch.Size([1, 1, 2, 2])\n",
            "torch.Size([1, 1, 2, 2])\n",
            "torch.Size([1, 1, 2, 2])\n",
            "torch.Size([1, 1, 2, 2])\n",
            "torch.Size([1, 1, 2, 2])\n",
            "torch.Size([1, 1, 2, 2])\n",
            "torch.Size([1, 1, 2, 2])\n",
            "torch.Size([1, 1, 2, 2])\n",
            "torch.Size([1, 1, 2, 2])\n",
            "torch.Size([1, 1, 2, 2])\n",
            "torch.Size([1, 1, 2, 2])\n",
            "torch.Size([1, 1, 2, 2])\n",
            "torch.Size([1, 1, 2, 2])\n",
            "torch.Size([1, 1, 2, 2])\n",
            "torch.Size([1, 1, 2, 2])\n",
            "torch.Size([1, 1, 2, 2])\n",
            "torch.Size([1, 1, 2, 2])\n",
            "torch.Size([1, 1, 2, 2])\n",
            "torch.Size([1, 1, 2, 2])\n",
            "torch.Size([1, 1, 2, 2])\n"
          ]
        },
        {
          "output_type": "stream",
          "name": "stderr",
          "text": [
            "  1%|          | 389/45000 [00:06<07:02, 105.56it/s]"
          ]
        },
        {
          "output_type": "stream",
          "name": "stdout",
          "text": [
            "torch.Size([1, 1, 2, 2])\n",
            "torch.Size([1, 1, 2, 2])\n",
            "torch.Size([1, 1, 2, 2])\n",
            "torch.Size([1, 1, 2, 2])\n",
            "torch.Size([1, 1, 2, 2])\n",
            "torch.Size([1, 1, 2, 2])\n",
            "torch.Size([1, 1, 2, 2])\n",
            "torch.Size([1, 1, 2, 2])\n",
            "torch.Size([1, 1, 2, 2])\n",
            "torch.Size([1, 1, 2, 2])\n",
            "torch.Size([1, 1, 2, 2])\n",
            "torch.Size([1, 1, 2, 2])\n",
            "torch.Size([1, 1, 2, 2])\n",
            "torch.Size([1, 1, 2, 2])\n",
            "torch.Size([1, 1, 2, 2])\n",
            "torch.Size([1, 1, 2, 2])\n",
            "torch.Size([1, 1, 2, 2])\n",
            "torch.Size([1, 1, 2, 2])\n",
            "torch.Size([1, 1, 2, 2])\n",
            "torch.Size([1, 1, 2, 2])\n"
          ]
        },
        {
          "output_type": "stream",
          "name": "stderr",
          "text": [
            "\r  1%|          | 400/45000 [00:07<08:52, 83.73it/s] "
          ]
        },
        {
          "output_type": "stream",
          "name": "stdout",
          "text": [
            "torch.Size([1, 1, 2, 2])\n",
            "torch.Size([1, 1, 2, 2])\n",
            "torch.Size([1, 1, 2, 2])\n",
            "torch.Size([1, 1, 2, 2])\n",
            "torch.Size([1, 1, 2, 2])\n",
            "torch.Size([1, 1, 2, 2])\n",
            "torch.Size([1, 1, 2, 2])\n",
            "torch.Size([1, 1, 2, 2])\n",
            "torch.Size([1, 1, 2, 2])\n",
            "torch.Size([1, 1, 2, 2])\n",
            "torch.Size([1, 1, 2, 2])\n",
            "torch.Size([1, 1, 2, 2])\n",
            "torch.Size([1, 1, 2, 2])\n",
            "torch.Size([1, 1, 2, 2])\n",
            "torch.Size([1, 1, 2, 2])\n",
            "torch.Size([1, 1, 2, 2])\n",
            "torch.Size([1, 1, 2, 2])\n"
          ]
        },
        {
          "output_type": "stream",
          "name": "stderr",
          "text": [
            "  1%|          | 421/45000 [00:07<08:27, 87.89it/s]"
          ]
        },
        {
          "output_type": "stream",
          "name": "stdout",
          "text": [
            "torch.Size([1, 1, 2, 2])\n",
            "torch.Size([1, 1, 2, 2])\n",
            "torch.Size([1, 1, 2, 2])\n",
            "torch.Size([1, 1, 2, 2])\n",
            "torch.Size([1, 1, 2, 2])\n",
            "torch.Size([1, 1, 2, 2])\n",
            "torch.Size([1, 1, 2, 2])\n",
            "torch.Size([1, 1, 2, 2])\n",
            "torch.Size([1, 1, 2, 2])\n",
            "torch.Size([1, 1, 2, 2])\n",
            "torch.Size([1, 1, 2, 2])\n",
            "torch.Size([1, 1, 2, 2])\n",
            "torch.Size([1, 1, 2, 2])\n",
            "torch.Size([1, 1, 2, 2])\n",
            "torch.Size([1, 1, 2, 2])\n",
            "torch.Size([1, 1, 2, 2])\n",
            "torch.Size([1, 1, 2, 2])\n"
          ]
        },
        {
          "output_type": "stream",
          "name": "stderr",
          "text": [
            "  1%|          | 441/45000 [00:07<08:34, 86.60it/s]"
          ]
        },
        {
          "output_type": "stream",
          "name": "stdout",
          "text": [
            "torch.Size([1, 1, 2, 2])\n",
            "torch.Size([1, 1, 2, 2])\n",
            "torch.Size([1, 1, 2, 2])\n",
            "torch.Size([1, 1, 2, 2])\n",
            "torch.Size([1, 1, 2, 2])\n",
            "torch.Size([1, 1, 2, 2])\n",
            "torch.Size([1, 1, 2, 2])\n",
            "torch.Size([1, 1, 2, 2])\n",
            "torch.Size([1, 1, 2, 2])\n",
            "torch.Size([1, 1, 2, 2])\n",
            "torch.Size([1, 1, 2, 2])\n",
            "torch.Size([1, 1, 2, 2])\n",
            "torch.Size([1, 1, 2, 2])\n",
            "torch.Size([1, 1, 2, 2])\n",
            "torch.Size([1, 1, 2, 2])\n",
            "torch.Size([1, 1, 2, 2])\n",
            "torch.Size([1, 1, 2, 2])\n",
            "torch.Size([1, 1, 2, 2])\n",
            "torch.Size([1, 1, 2, 2])\n",
            "torch.Size([1, 1, 2, 2])\n"
          ]
        },
        {
          "output_type": "stream",
          "name": "stderr",
          "text": [
            "  1%|          | 462/45000 [00:07<08:31, 87.01it/s]"
          ]
        },
        {
          "output_type": "stream",
          "name": "stdout",
          "text": [
            "torch.Size([1, 1, 2, 2])\n",
            "torch.Size([1, 1, 2, 2])\n",
            "torch.Size([1, 1, 2, 2])\n",
            "torch.Size([1, 1, 2, 2])\n",
            "torch.Size([1, 1, 2, 2])\n",
            "torch.Size([1, 1, 2, 2])\n",
            "torch.Size([1, 1, 2, 2])\n",
            "torch.Size([1, 1, 2, 2])\n",
            "torch.Size([1, 1, 2, 2])\n",
            "torch.Size([1, 1, 2, 2])\n",
            "torch.Size([1, 1, 2, 2])\n",
            "torch.Size([1, 1, 2, 2])\n",
            "torch.Size([1, 1, 2, 2])\n",
            "torch.Size([1, 1, 2, 2])\n",
            "torch.Size([1, 1, 2, 2])\n",
            "torch.Size([1, 1, 2, 2])\n",
            "torch.Size([1, 1, 2, 2])\n",
            "torch.Size([1, 1, 2, 2])"
          ]
        },
        {
          "output_type": "stream",
          "name": "stderr",
          "text": [
            "\r  1%|          | 472/45000 [00:07<08:55, 83.21it/s]"
          ]
        },
        {
          "output_type": "stream",
          "name": "stdout",
          "text": [
            "\n",
            "torch.Size([1, 1, 2, 2])\n",
            "torch.Size([1, 1, 2, 2])\n",
            "torch.Size([1, 1, 2, 2])\n",
            "torch.Size([1, 1, 2, 2])\n",
            "torch.Size([1, 1, 2, 2])\n",
            "torch.Size([1, 1, 2, 2])\n",
            "torch.Size([1, 1, 2, 2])\n",
            "torch.Size([1, 1, 2, 2])\n",
            "torch.Size([1, 1, 2, 2])\n",
            "torch.Size([1, 1, 2, 2])\n",
            "torch.Size([1, 1, 2, 2])\n",
            "torch.Size([1, 1, 2, 2])\n",
            "torch.Size([1, 1, 2, 2])\n",
            "torch.Size([1, 1, 2, 2])\n",
            "torch.Size([1, 1, 2, 2])\n"
          ]
        },
        {
          "output_type": "stream",
          "name": "stderr",
          "text": [
            "  1%|          | 493/45000 [00:08<08:09, 90.87it/s]"
          ]
        },
        {
          "output_type": "stream",
          "name": "stdout",
          "text": [
            "torch.Size([1, 1, 2, 2])\n",
            "torch.Size([1, 1, 2, 2])\n",
            "torch.Size([1, 1, 2, 2])\n",
            "torch.Size([1, 1, 2, 2])\n",
            "torch.Size([1, 1, 2, 2])\n",
            "torch.Size([1, 1, 2, 2])\n",
            "torch.Size([1, 1, 2, 2])\n",
            "torch.Size([1, 1, 2, 2])\n",
            "torch.Size([1, 1, 2, 2])\n",
            "torch.Size([1, 1, 2, 2])\n",
            "torch.Size([1, 1, 2, 2])\n",
            "torch.Size([1, 1, 2, 2])\n",
            "torch.Size([1, 1, 2, 2])\n",
            "torch.Size([1, 1, 2, 2])\n",
            "torch.Size([1, 1, 2, 2])\n",
            "torch.Size([1, 1, 2, 2])\n",
            "torch.Size([1, 1, 2, 2])\n",
            "torch.Size([1, 1, 2, 2])\n",
            "torch.Size([1, 1, 2, 2])\n",
            "torch.Size([1, 1, 2, 2])\n",
            "torch.Size([1, 1, 2, 2])\n",
            "torch.Size([1, 1, 2, 2])\n"
          ]
        },
        {
          "output_type": "stream",
          "name": "stderr",
          "text": [
            "  1%|          | 516/45000 [00:08<07:42, 96.12it/s]"
          ]
        },
        {
          "output_type": "stream",
          "name": "stdout",
          "text": [
            "torch.Size([1, 1, 2, 2])\n",
            "torch.Size([1, 1, 2, 2])\n",
            "torch.Size([1, 1, 2, 2])\n",
            "torch.Size([1, 1, 2, 2])\n",
            "torch.Size([1, 1, 2, 2])\n",
            "torch.Size([1, 1, 2, 2])\n",
            "torch.Size([1, 1, 2, 2])\n",
            "torch.Size([1, 1, 2, 2])\n",
            "torch.Size([1, 1, 2, 2])\n",
            "torch.Size([1, 1, 2, 2])\n",
            "torch.Size([1, 1, 2, 2])\n",
            "torch.Size([1, 1, 2, 2])\n",
            "torch.Size([1, 1, 2, 2])\n",
            "torch.Size([1, 1, 2, 2])\n",
            "torch.Size([1, 1, 2, 2])\n",
            "torch.Size([1, 1, 2, 2])\n",
            "torch.Size([1, 1, 2, 2])\n",
            "torch.Size([1, 1, 2, 2])\n",
            "torch.Size([1, 1, 2, 2])\n",
            "torch.Size([1, 1, 2, 2])\n",
            "torch.Size([1, 1, 2, 2])\n"
          ]
        },
        {
          "output_type": "stream",
          "name": "stderr",
          "text": [
            "  1%|          | 536/45000 [00:08<08:45, 84.67it/s]"
          ]
        },
        {
          "output_type": "stream",
          "name": "stdout",
          "text": [
            "torch.Size([1, 1, 2, 2])\n",
            "torch.Size([1, 1, 2, 2])\n",
            "torch.Size([1, 1, 2, 2])\n",
            "torch.Size([1, 1, 2, 2])\n",
            "torch.Size([1, 1, 2, 2])\n",
            "torch.Size([1, 1, 2, 2])\n",
            "torch.Size([1, 1, 2, 2])\n",
            "torch.Size([1, 1, 2, 2])\n",
            "torch.Size([1, 1, 2, 2])\n",
            "torch.Size([1, 1, 2, 2])\n",
            "torch.Size([1, 1, 2, 2])\n",
            "torch.Size([1, 1, 2, 2])\n",
            "torch.Size([1, 1, 2, 2])\n",
            "torch.Size([1, 1, 2, 2])\n",
            "torch.Size([1, 1, 2, 2])\n"
          ]
        },
        {
          "output_type": "stream",
          "name": "stderr",
          "text": [
            "\r  1%|          | 545/45000 [00:08<08:47, 84.30it/s]"
          ]
        },
        {
          "output_type": "stream",
          "name": "stdout",
          "text": [
            "torch.Size([1, 1, 2, 2])\n",
            "torch.Size([1, 1, 2, 2])\n",
            "torch.Size([1, 1, 2, 2])\n",
            "torch.Size([1, 1, 2, 2])\n",
            "torch.Size([1, 1, 2, 2])\n",
            "torch.Size([1, 1, 2, 2])\n",
            "torch.Size([1, 1, 2, 2])\n",
            "torch.Size([1, 1, 2, 2])\n",
            "torch.Size([1, 1, 2, 2])\n",
            "torch.Size([1, 1, 2, 2])\n",
            "torch.Size([1, 1, 2, 2])\n",
            "torch.Size([1, 1, 2, 2])\n",
            "torch.Size([1, 1, 2, 2])\n",
            "torch.Size([1, 1, 2, 2])\n",
            "torch.Size([1, 1, 2, 2])\n",
            "torch.Size([1, 1, 2, 2])\n",
            "torch.Size([1, 1, 2, 2])\n",
            "torch.Size([1, 1, 2, 2])\n"
          ]
        },
        {
          "output_type": "stream",
          "name": "stderr",
          "text": [
            "  1%|▏         | 563/45000 [00:08<09:04, 81.57it/s]"
          ]
        },
        {
          "output_type": "stream",
          "name": "stdout",
          "text": [
            "torch.Size([1, 1, 2, 2])\n",
            "torch.Size([1, 1, 2, 2])\n",
            "torch.Size([1, 1, 2, 2])\n",
            "torch.Size([1, 1, 2, 2])\n",
            "torch.Size([1, 1, 2, 2])\n",
            "torch.Size([1, 1, 2, 2])\n",
            "torch.Size([1, 1, 2, 2])\n",
            "torch.Size([1, 1, 2, 2])\n",
            "torch.Size([1, 1, 2, 2])\n",
            "torch.Size([1, 1, 2, 2])\n",
            "torch.Size([1, 1, 2, 2])\n",
            "torch.Size([1, 1, 2, 2])\n",
            "torch.Size([1, 1, 2, 2])\n",
            "torch.Size([1, 1, 2, 2])\n",
            "torch.Size([1, 1, 2, 2])\n",
            "torch.Size([1, 1, 2, 2])\n",
            "torch.Size([1, 1, 2, 2])\n",
            "torch.Size([1, 1, 2, 2])\n",
            "torch.Size([1, 1, 2, 2])\n",
            "torch.Size([1, 1, 2, 2])\n",
            "torch.Size([1, 1, 2, 2])\n"
          ]
        },
        {
          "output_type": "stream",
          "name": "stderr",
          "text": [
            "  1%|▏         | 585/45000 [00:09<08:12, 90.15it/s]"
          ]
        },
        {
          "output_type": "stream",
          "name": "stdout",
          "text": [
            "torch.Size([1, 1, 2, 2])\n",
            "torch.Size([1, 1, 2, 2])\n",
            "torch.Size([1, 1, 2, 2])\n",
            "torch.Size([1, 1, 2, 2])\n",
            "torch.Size([1, 1, 2, 2])\n",
            "torch.Size([1, 1, 2, 2])\n",
            "torch.Size([1, 1, 2, 2])\n",
            "torch.Size([1, 1, 2, 2])\n",
            "torch.Size([1, 1, 2, 2])\n",
            "torch.Size([1, 1, 2, 2])\n",
            "torch.Size([1, 1, 2, 2])\n",
            "torch.Size([1, 1, 2, 2])\n",
            "torch.Size([1, 1, 2, 2])\n",
            "torch.Size([1, 1, 2, 2])\n",
            "torch.Size([1, 1, 2, 2])\n",
            "torch.Size([1, 1, 2, 2])\n",
            "torch.Size([1, 1, 2, 2])\n",
            "torch.Size([1, 1, 2, 2])\n",
            "torch.Size([1, 1, 2, 2])\n"
          ]
        },
        {
          "output_type": "stream",
          "name": "stderr",
          "text": [
            "  1%|▏         | 606/45000 [00:09<07:48, 94.68it/s]"
          ]
        },
        {
          "output_type": "stream",
          "name": "stdout",
          "text": [
            "torch.Size([1, 1, 2, 2])\n",
            "torch.Size([1, 1, 2, 2])\n",
            "torch.Size([1, 1, 2, 2])\n",
            "torch.Size([1, 1, 2, 2])\n",
            "torch.Size([1, 1, 2, 2])\n",
            "torch.Size([1, 1, 2, 2])\n",
            "torch.Size([1, 1, 2, 2])\n",
            "torch.Size([1, 1, 2, 2])\n",
            "torch.Size([1, 1, 2, 2])\n",
            "torch.Size([1, 1, 2, 2])\n",
            "torch.Size([1, 1, 2, 2])\n",
            "torch.Size([1, 1, 2, 2])\n",
            "torch.Size([1, 1, 2, 2])\n",
            "torch.Size([1, 1, 2, 2])\n",
            "torch.Size([1, 1, 2, 2])\n",
            "torch.Size([1, 1, 2, 2])\n",
            "torch.Size([1, 1, 2, 2])\n",
            "torch.Size([1, 1, 2, 2])\n",
            "torch.Size([1, 1, 2, 2])\n",
            "torch.Size([1, 1, 2, 2])\n",
            "torch.Size([1, 1, 2, 2])\n"
          ]
        },
        {
          "output_type": "stream",
          "name": "stderr",
          "text": [
            "  1%|▏         | 626/45000 [00:09<08:46, 84.25it/s]"
          ]
        },
        {
          "output_type": "stream",
          "name": "stdout",
          "text": [
            "torch.Size([1, 1, 2, 2])\n",
            "torch.Size([1, 1, 2, 2])\n",
            "torch.Size([1, 1, 2, 2])\n",
            "torch.Size([1, 1, 2, 2])\n",
            "torch.Size([1, 1, 2, 2])\n",
            "torch.Size([1, 1, 2, 2])\n",
            "torch.Size([1, 1, 2, 2])\n",
            "torch.Size([1, 1, 2, 2])\n",
            "torch.Size([1, 1, 2, 2])\n",
            "torch.Size([1, 1, 2, 2])\n",
            "torch.Size([1, 1, 2, 2])\n",
            "torch.Size([1, 1, 2, 2])\n",
            "torch.Size([1, 1, 2, 2])\n"
          ]
        },
        {
          "output_type": "stream",
          "name": "stderr",
          "text": [
            "  1%|▏         | 644/45000 [00:09<09:37, 76.80it/s]"
          ]
        },
        {
          "output_type": "stream",
          "name": "stdout",
          "text": [
            "torch.Size([1, 1, 2, 2])\n",
            "torch.Size([1, 1, 2, 2])\n",
            "torch.Size([1, 1, 2, 2])\n",
            "torch.Size([1, 1, 2, 2])\n",
            "torch.Size([1, 1, 2, 2])\n",
            "torch.Size([1, 1, 2, 2])\n",
            "torch.Size([1, 1, 2, 2])\n",
            "torch.Size([1, 1, 2, 2])\n",
            "torch.Size([1, 1, 2, 2])\n",
            "torch.Size([1, 1, 2, 2])\n",
            "torch.Size([1, 1, 2, 2])\n",
            "torch.Size([1, 1, 2, 2])\n",
            "torch.Size([1, 1, 2, 2])\n",
            "torch.Size([1, 1, 2, 2])\n",
            "torch.Size([1, 1, 2, 2])\n",
            "torch.Size([1, 1, 2, 2])\n",
            "torch.Size([1, 1, 2, 2])\n"
          ]
        },
        {
          "output_type": "stream",
          "name": "stderr",
          "text": [
            "  1%|▏         | 664/45000 [00:10<08:30, 86.84it/s]"
          ]
        },
        {
          "output_type": "stream",
          "name": "stdout",
          "text": [
            "torch.Size([1, 1, 2, 2])\n",
            "torch.Size([1, 1, 2, 2])\n",
            "torch.Size([1, 1, 2, 2])\n",
            "torch.Size([1, 1, 2, 2])\n",
            "torch.Size([1, 1, 2, 2])\n",
            "torch.Size([1, 1, 2, 2])\n",
            "torch.Size([1, 1, 2, 2])\n",
            "torch.Size([1, 1, 2, 2])\n",
            "torch.Size([1, 1, 2, 2])\n",
            "torch.Size([1, 1, 2, 2])\n",
            "torch.Size([1, 1, 2, 2])\n",
            "torch.Size([1, 1, 2, 2])\n",
            "torch.Size([1, 1, 2, 2])\n",
            "torch.Size([1, 1, 2, 2])\n",
            "torch.Size([1, 1, 2, 2])\n",
            "torch.Size([1, 1, 2, 2])\n",
            "torch.Size([1, 1, 2, 2])\n",
            "torch.Size([1, 1, 2, 2])\n",
            "torch.Size([1, 1, 2, 2])\n",
            "torch.Size([1, 1, 2, 2])\n",
            "torch.Size([1, 1, 2, 2])\n"
          ]
        },
        {
          "output_type": "stream",
          "name": "stderr",
          "text": [
            "  2%|▏         | 687/45000 [00:10<07:27, 98.97it/s]"
          ]
        },
        {
          "output_type": "stream",
          "name": "stdout",
          "text": [
            "torch.Size([1, 1, 2, 2])\n",
            "torch.Size([1, 1, 2, 2])\n",
            "torch.Size([1, 1, 2, 2])\n",
            "torch.Size([1, 1, 2, 2])\n",
            "torch.Size([1, 1, 2, 2])\n",
            "torch.Size([1, 1, 2, 2])\n",
            "torch.Size([1, 1, 2, 2])\n",
            "torch.Size([1, 1, 2, 2])\n",
            "torch.Size([1, 1, 2, 2])\n",
            "torch.Size([1, 1, 2, 2])\n",
            "torch.Size([1, 1, 2, 2])\n",
            "torch.Size([1, 1, 2, 2])\n",
            "torch.Size([1, 1, 2, 2])\n",
            "torch.Size([1, 1, 2, 2])\n",
            "torch.Size([1, 1, 2, 2])\n",
            "torch.Size([1, 1, 2, 2])\n",
            "torch.Size([1, 1, 2, 2])\n",
            "torch.Size([1, 1, 2, 2])\n",
            "torch.Size([1, 1, 2, 2])\n",
            "torch.Size([1, 1, 2, 2])\n",
            "torch.Size([1, 1, 2, 2])\n",
            "torch.Size([1, 1, 2, 2])\n",
            "torch.Size([1, 1, 2, 2])\n"
          ]
        },
        {
          "output_type": "stream",
          "name": "stderr",
          "text": [
            "\r  2%|▏         | 698/45000 [00:10<07:15, 101.68it/s]"
          ]
        },
        {
          "output_type": "stream",
          "name": "stdout",
          "text": [
            "torch.Size([1, 1, 2, 2])\n",
            "torch.Size([1, 1, 2, 2])\n",
            "torch.Size([1, 1, 2, 2])\n",
            "torch.Size([1, 1, 2, 2])\n",
            "torch.Size([1, 1, 2, 2])\n",
            "torch.Size([1, 1, 2, 2])\n",
            "torch.Size([1, 1, 2, 2])\n",
            "torch.Size([1, 1, 2, 2])\n",
            "torch.Size([1, 1, 2, 2])\n",
            "torch.Size([1, 1, 2, 2])\n",
            "torch.Size([1, 1, 2, 2])\n",
            "torch.Size([1, 1, 2, 2])\n",
            "torch.Size([1, 1, 2, 2])\n",
            "torch.Size([1, 1, 2, 2])\n",
            "torch.Size([1, 1, 2, 2])\n",
            "torch.Size([1, 1, 2, 2])\n",
            "torch.Size([1, 1, 2, 2])\n",
            "torch.Size([1, 1, 2, 2])\n"
          ]
        },
        {
          "output_type": "stream",
          "name": "stderr",
          "text": [
            "  2%|▏         | 719/45000 [00:10<08:14, 89.59it/s]"
          ]
        },
        {
          "output_type": "stream",
          "name": "stdout",
          "text": [
            "torch.Size([1, 1, 2, 2])\n",
            "torch.Size([1, 1, 2, 2])\n",
            "torch.Size([1, 1, 2, 2])\n",
            "torch.Size([1, 1, 2, 2])\n",
            "torch.Size([1, 1, 2, 2])\n",
            "torch.Size([1, 1, 2, 2])\n",
            "torch.Size([1, 1, 2, 2])\n",
            "torch.Size([1, 1, 2, 2])\n",
            "torch.Size([1, 1, 2, 2])\n",
            "torch.Size([1, 1, 2, 2])\n",
            "torch.Size([1, 1, 2, 2])\n",
            "torch.Size([1, 1, 2, 2])\n",
            "torch.Size([1, 1, 2, 2])\n",
            "torch.Size([1, 1, 2, 2])\n",
            "torch.Size([1, 1, 2, 2])\n",
            "torch.Size([1, 1, 2, 2])\n",
            "torch.Size([1, 1, 2, 2])\n",
            "torch.Size([1, 1, 2, 2])\n"
          ]
        },
        {
          "output_type": "stream",
          "name": "stderr",
          "text": [
            "  2%|▏         | 742/45000 [00:10<07:32, 97.84it/s]"
          ]
        },
        {
          "output_type": "stream",
          "name": "stdout",
          "text": [
            "torch.Size([1, 1, 2, 2])\n",
            "torch.Size([1, 1, 2, 2])\n",
            "torch.Size([1, 1, 2, 2])\n",
            "torch.Size([1, 1, 2, 2])\n",
            "torch.Size([1, 1, 2, 2])\n",
            "torch.Size([1, 1, 2, 2])\n",
            "torch.Size([1, 1, 2, 2])\n",
            "torch.Size([1, 1, 2, 2])\n",
            "torch.Size([1, 1, 2, 2])\n",
            "torch.Size([1, 1, 2, 2])\n",
            "torch.Size([1, 1, 2, 2])\n",
            "torch.Size([1, 1, 2, 2])\n",
            "torch.Size([1, 1, 2, 2])\n",
            "torch.Size([1, 1, 2, 2])\n",
            "torch.Size([1, 1, 2, 2])\n",
            "torch.Size([1, 1, 2, 2])\n",
            "torch.Size([1, 1, 2, 2])\n",
            "torch.Size([1, 1, 2, 2])\n",
            "torch.Size([1, 1, 2, 2])\n",
            "torch.Size([1, 1, 2, 2])\n",
            "torch.Size([1, 1, 2, 2])\n",
            "torch.Size([1, 1, 2, 2])\n",
            "torch.Size([1, 1, 2, 2])\n",
            "torch.Size([1, 1, 2, 2])\n"
          ]
        },
        {
          "output_type": "stream",
          "name": "stderr",
          "text": [
            "  2%|▏         | 762/45000 [00:11<07:35, 97.21it/s]"
          ]
        },
        {
          "output_type": "stream",
          "name": "stdout",
          "text": [
            "torch.Size([1, 1, 2, 2])\n",
            "torch.Size([1, 1, 2, 2])\n",
            "torch.Size([1, 1, 2, 2])\n",
            "torch.Size([1, 1, 2, 2])\n",
            "torch.Size([1, 1, 2, 2])\n",
            "torch.Size([1, 1, 2, 2])\n",
            "torch.Size([1, 1, 2, 2])\n",
            "torch.Size([1, 1, 2, 2])\n",
            "torch.Size([1, 1, 2, 2])\n",
            "torch.Size([1, 1, 2, 2])\n",
            "torch.Size([1, 1, 2, 2])\n",
            "torch.Size([1, 1, 2, 2])\n",
            "torch.Size([1, 1, 2, 2])\n",
            "torch.Size([1, 1, 2, 2])\n",
            "torch.Size([1, 1, 2, 2])\n",
            "torch.Size([1, 1, 2, 2])\n",
            "torch.Size([1, 1, 2, 2])\n",
            "torch.Size([1, 1, 2, 2])\n",
            "torch.Size([1, 1, 2, 2])\n",
            "torch.Size([1, 1, 2, 2])\n"
          ]
        },
        {
          "output_type": "stream",
          "name": "stderr",
          "text": [
            "  2%|▏         | 785/45000 [00:11<07:00, 105.23it/s]"
          ]
        },
        {
          "output_type": "stream",
          "name": "stdout",
          "text": [
            "torch.Size([1, 1, 2, 2])\n",
            "torch.Size([1, 1, 2, 2])\n",
            "torch.Size([1, 1, 2, 2])\n",
            "torch.Size([1, 1, 2, 2])\n",
            "torch.Size([1, 1, 2, 2])\n",
            "torch.Size([1, 1, 2, 2])\n",
            "torch.Size([1, 1, 2, 2])\n",
            "torch.Size([1, 1, 2, 2])\n",
            "torch.Size([1, 1, 2, 2])\n",
            "torch.Size([1, 1, 2, 2])\n",
            "torch.Size([1, 1, 2, 2])\n",
            "torch.Size([1, 1, 2, 2])\n",
            "torch.Size([1, 1, 2, 2])\n",
            "torch.Size([1, 1, 2, 2])\n",
            "torch.Size([1, 1, 2, 2])\n",
            "torch.Size([1, 1, 2, 2])\n",
            "torch.Size([1, 1, 2, 2])\n",
            "torch.Size([1, 1, 2, 2])\n",
            "torch.Size([1, 1, 2, 2])\n",
            "torch.Size([1, 1, 2, 2])\n",
            "torch.Size([1, 1, 2, 2])\n",
            "torch.Size([1, 1, 2, 2])"
          ]
        },
        {
          "output_type": "stream",
          "name": "stderr",
          "text": [
            "  2%|▏         | 807/45000 [00:11<07:12, 102.23it/s]"
          ]
        },
        {
          "output_type": "stream",
          "name": "stdout",
          "text": [
            "\n",
            "torch.Size([1, 1, 2, 2])\n",
            "torch.Size([1, 1, 2, 2])\n",
            "torch.Size([1, 1, 2, 2])\n",
            "torch.Size([1, 1, 2, 2])\n",
            "torch.Size([1, 1, 2, 2])\n",
            "torch.Size([1, 1, 2, 2])\n",
            "torch.Size([1, 1, 2, 2])\n",
            "torch.Size([1, 1, 2, 2])\n",
            "torch.Size([1, 1, 2, 2])\n",
            "torch.Size([1, 1, 2, 2])\n",
            "torch.Size([1, 1, 2, 2])\n",
            "torch.Size([1, 1, 2, 2])\n",
            "torch.Size([1, 1, 2, 2])\n",
            "torch.Size([1, 1, 2, 2])\n",
            "torch.Size([1, 1, 2, 2])\n",
            "torch.Size([1, 1, 2, 2])\n",
            "torch.Size([1, 1, 2, 2])\n",
            "torch.Size([1, 1, 2, 2])\n",
            "torch.Size([1, 1, 2, 2])\n",
            "torch.Size([1, 1, 2, 2])\n",
            "torch.Size([1, 1, 2, 2])\n",
            "torch.Size([1, 1, 2, 2])\n"
          ]
        },
        {
          "output_type": "stream",
          "name": "stderr",
          "text": [
            "  2%|▏         | 830/45000 [00:11<07:07, 103.31it/s]"
          ]
        },
        {
          "output_type": "stream",
          "name": "stdout",
          "text": [
            "torch.Size([1, 1, 2, 2])\n",
            "torch.Size([1, 1, 2, 2])\n",
            "torch.Size([1, 1, 2, 2])\n",
            "torch.Size([1, 1, 2, 2])\n",
            "torch.Size([1, 1, 2, 2])\n",
            "torch.Size([1, 1, 2, 2])\n",
            "torch.Size([1, 1, 2, 2])\n",
            "torch.Size([1, 1, 2, 2])\n",
            "torch.Size([1, 1, 2, 2])\n",
            "torch.Size([1, 1, 2, 2])\n",
            "torch.Size([1, 1, 2, 2])\n",
            "torch.Size([1, 1, 2, 2])\n",
            "torch.Size([1, 1, 2, 2])\n",
            "torch.Size([1, 1, 2, 2])\n",
            "torch.Size([1, 1, 2, 2])\n",
            "torch.Size([1, 1, 2, 2])\n",
            "torch.Size([1, 1, 2, 2])\n",
            "torch.Size([1, 1, 2, 2])\n",
            "torch.Size([1, 1, 2, 2])\n",
            "torch.Size([1, 1, 2, 2])\n",
            "torch.Size([1, 1, 2, 2])\n"
          ]
        },
        {
          "output_type": "stream",
          "name": "stderr",
          "text": [
            "  2%|▏         | 852/45000 [00:12<07:12, 102.03it/s]"
          ]
        },
        {
          "output_type": "stream",
          "name": "stdout",
          "text": [
            "torch.Size([1, 1, 2, 2])\n",
            "torch.Size([1, 1, 2, 2])\n",
            "torch.Size([1, 1, 2, 2])\n",
            "torch.Size([1, 1, 2, 2])\n",
            "torch.Size([1, 1, 2, 2])\n",
            "torch.Size([1, 1, 2, 2])\n",
            "torch.Size([1, 1, 2, 2])\n",
            "torch.Size([1, 1, 2, 2])\n",
            "torch.Size([1, 1, 2, 2])\n",
            "torch.Size([1, 1, 2, 2])\n",
            "torch.Size([1, 1, 2, 2])\n",
            "torch.Size([1, 1, 2, 2])\n",
            "torch.Size([1, 1, 2, 2])\n",
            "torch.Size([1, 1, 2, 2])\n",
            "torch.Size([1, 1, 2, 2])\n",
            "torch.Size([1, 1, 2, 2])\n",
            "torch.Size([1, 1, 2, 2])\n",
            "torch.Size([1, 1, 2, 2])\n",
            "torch.Size([1, 1, 2, 2])\n",
            "torch.Size([1, 1, 2, 2])\n"
          ]
        },
        {
          "output_type": "stream",
          "name": "stderr",
          "text": [
            "  2%|▏         | 875/45000 [00:12<06:52, 106.89it/s]"
          ]
        },
        {
          "output_type": "stream",
          "name": "stdout",
          "text": [
            "torch.Size([1, 1, 2, 2])\n",
            "torch.Size([1, 1, 2, 2])\n",
            "torch.Size([1, 1, 2, 2])\n",
            "torch.Size([1, 1, 2, 2])\n",
            "torch.Size([1, 1, 2, 2])\n",
            "torch.Size([1, 1, 2, 2])\n",
            "torch.Size([1, 1, 2, 2])\n",
            "torch.Size([1, 1, 2, 2])\n",
            "torch.Size([1, 1, 2, 2])\n",
            "torch.Size([1, 1, 2, 2])\n",
            "torch.Size([1, 1, 2, 2])\n",
            "torch.Size([1, 1, 2, 2])\n",
            "torch.Size([1, 1, 2, 2])\n",
            "torch.Size([1, 1, 2, 2])\n",
            "torch.Size([1, 1, 2, 2])\n",
            "torch.Size([1, 1, 2, 2])\n",
            "torch.Size([1, 1, 2, 2])\n",
            "torch.Size([1, 1, 2, 2])\n",
            "torch.Size([1, 1, 2, 2])\n",
            "torch.Size([1, 1, 2, 2])\n",
            "torch.Size([1, 1, 2, 2])\n",
            "torch.Size([1, 1, 2, 2])\n",
            "torch.Size([1, 1, 2, 2])\n",
            "torch.Size([1, 1, 2, 2])\n"
          ]
        },
        {
          "output_type": "stream",
          "name": "stderr",
          "text": [
            "  2%|▏         | 897/45000 [00:12<07:12, 101.92it/s]"
          ]
        },
        {
          "output_type": "stream",
          "name": "stdout",
          "text": [
            "torch.Size([1, 1, 2, 2])\n",
            "torch.Size([1, 1, 2, 2])\n",
            "torch.Size([1, 1, 2, 2])\n",
            "torch.Size([1, 1, 2, 2])\n",
            "torch.Size([1, 1, 2, 2])\n",
            "torch.Size([1, 1, 2, 2])\n",
            "torch.Size([1, 1, 2, 2])\n",
            "torch.Size([1, 1, 2, 2])\n",
            "torch.Size([1, 1, 2, 2])\n",
            "torch.Size([1, 1, 2, 2])\n",
            "torch.Size([1, 1, 2, 2])\n",
            "torch.Size([1, 1, 2, 2])\n",
            "torch.Size([1, 1, 2, 2])\n",
            "torch.Size([1, 1, 2, 2])\n",
            "torch.Size([1, 1, 2, 2])\n",
            "torch.Size([1, 1, 2, 2])\n",
            "torch.Size([1, 1, 2, 2])\n",
            "torch.Size([1, 1, 2, 2])\n",
            "torch.Size([1, 1, 2, 2])\n",
            "torch.Size([1, 1, 2, 2])\n",
            "torch.Size([1, 1, 2, 2])\n",
            "torch.Size([1, 1, 2, 2])\n"
          ]
        },
        {
          "output_type": "stream",
          "name": "stderr",
          "text": [
            "\r  2%|▏         | 908/45000 [00:12<07:13, 101.61it/s]"
          ]
        },
        {
          "output_type": "stream",
          "name": "stdout",
          "text": [
            "torch.Size([1, 1, 2, 2])\n",
            "torch.Size([1, 1, 2, 2])\n",
            "torch.Size([1, 1, 2, 2])\n",
            "torch.Size([1, 1, 2, 2])\n",
            "torch.Size([1, 1, 2, 2])\n",
            "torch.Size([1, 1, 2, 2])\n",
            "torch.Size([1, 1, 2, 2])\n",
            "torch.Size([1, 1, 2, 2])\n",
            "torch.Size([1, 1, 2, 2])\n",
            "torch.Size([1, 1, 2, 2])\n",
            "torch.Size([1, 1, 2, 2])\n",
            "torch.Size([1, 1, 2, 2])\n",
            "torch.Size([1, 1, 2, 2])\n",
            "torch.Size([1, 1, 2, 2])\n",
            "torch.Size([1, 1, 2, 2])\n",
            "torch.Size([1, 1, 2, 2])\n",
            "torch.Size([1, 1, 2, 2])\n",
            "torch.Size([1, 1, 2, 2])\n"
          ]
        },
        {
          "output_type": "stream",
          "name": "stderr",
          "text": [
            "  2%|▏         | 932/45000 [00:12<07:03, 103.99it/s]"
          ]
        },
        {
          "output_type": "stream",
          "name": "stdout",
          "text": [
            "torch.Size([1, 1, 2, 2])\n",
            "torch.Size([1, 1, 2, 2])\n",
            "torch.Size([1, 1, 2, 2])\n",
            "torch.Size([1, 1, 2, 2])\n",
            "torch.Size([1, 1, 2, 2])\n",
            "torch.Size([1, 1, 2, 2])\n",
            "torch.Size([1, 1, 2, 2])\n",
            "torch.Size([1, 1, 2, 2])\n",
            "torch.Size([1, 1, 2, 2])\n",
            "torch.Size([1, 1, 2, 2])\n",
            "torch.Size([1, 1, 2, 2])\n",
            "torch.Size([1, 1, 2, 2])\n",
            "torch.Size([1, 1, 2, 2])\n",
            "torch.Size([1, 1, 2, 2])\n",
            "torch.Size([1, 1, 2, 2])\n",
            "torch.Size([1, 1, 2, 2])\n",
            "torch.Size([1, 1, 2, 2])\n",
            "torch.Size([1, 1, 2, 2])\n",
            "torch.Size([1, 1, 2, 2])\n",
            "torch.Size([1, 1, 2, 2])\n",
            "torch.Size([1, 1, 2, 2])\n",
            "torch.Size([1, 1, 2, 2])\n",
            "torch.Size([1, 1, 2, 2])\n"
          ]
        },
        {
          "output_type": "stream",
          "name": "stderr",
          "text": [
            "  2%|▏         | 954/45000 [00:13<07:20, 100.05it/s]"
          ]
        },
        {
          "output_type": "stream",
          "name": "stdout",
          "text": [
            "torch.Size([1, 1, 2, 2])\n",
            "torch.Size([1, 1, 2, 2])\n",
            "torch.Size([1, 1, 2, 2])\n",
            "torch.Size([1, 1, 2, 2])\n",
            "torch.Size([1, 1, 2, 2])\n",
            "torch.Size([1, 1, 2, 2])\n",
            "torch.Size([1, 1, 2, 2])\n",
            "torch.Size([1, 1, 2, 2])\n",
            "torch.Size([1, 1, 2, 2])\n",
            "torch.Size([1, 1, 2, 2])\n",
            "torch.Size([1, 1, 2, 2])\n",
            "torch.Size([1, 1, 2, 2])\n",
            "torch.Size([1, 1, 2, 2])\n",
            "torch.Size([1, 1, 2, 2])\n",
            "torch.Size([1, 1, 2, 2])\n",
            "torch.Size([1, 1, 2, 2])\n",
            "torch.Size([1, 1, 2, 2])\n",
            "torch.Size([1, 1, 2, 2])\n",
            "torch.Size([1, 1, 2, 2])\n"
          ]
        },
        {
          "output_type": "stream",
          "name": "stderr",
          "text": [
            "  2%|▏         | 977/45000 [00:13<07:09, 102.39it/s]"
          ]
        },
        {
          "output_type": "stream",
          "name": "stdout",
          "text": [
            "torch.Size([1, 1, 2, 2])\n",
            "torch.Size([1, 1, 2, 2])\n",
            "torch.Size([1, 1, 2, 2])\n",
            "torch.Size([1, 1, 2, 2])\n",
            "torch.Size([1, 1, 2, 2])\n",
            "torch.Size([1, 1, 2, 2])\n",
            "torch.Size([1, 1, 2, 2])\n",
            "torch.Size([1, 1, 2, 2])\n",
            "torch.Size([1, 1, 2, 2])\n",
            "torch.Size([1, 1, 2, 2])\n",
            "torch.Size([1, 1, 2, 2])\n",
            "torch.Size([1, 1, 2, 2])\n",
            "torch.Size([1, 1, 2, 2])\n",
            "torch.Size([1, 1, 2, 2])\n",
            "torch.Size([1, 1, 2, 2])\n",
            "torch.Size([1, 1, 2, 2])\n",
            "torch.Size([1, 1, 2, 2])\n",
            "torch.Size([1, 1, 2, 2])\n",
            "torch.Size([1, 1, 2, 2])\n",
            "torch.Size([1, 1, 2, 2])\n",
            "torch.Size([1, 1, 2, 2])\n",
            "torch.Size([1, 1, 2, 2])\n",
            "torch.Size([1, 1, 2, 2])\n"
          ]
        },
        {
          "output_type": "stream",
          "name": "stderr",
          "text": [
            "\r  2%|▏         | 990/45000 [00:13<06:47, 108.11it/s]"
          ]
        },
        {
          "output_type": "stream",
          "name": "stdout",
          "text": [
            "torch.Size([1, 1, 2, 2])\n",
            "torch.Size([1, 1, 2, 2])\n",
            "torch.Size([1, 1, 2, 2])\n",
            "torch.Size([1, 1, 2, 2])\n",
            "torch.Size([1, 1, 2, 2])\n",
            "torch.Size([1, 1, 2, 2])\n",
            "torch.Size([1, 1, 2, 2])\n",
            "torch.Size([1, 1, 2, 2])\n",
            "torch.Size([1, 1, 2, 2])\n",
            "torch.Size([1, 1, 2, 2])\n",
            "torch.Size([1, 1, 2, 2])\n",
            "torch.Size([1, 1, 2, 2])\n",
            "torch.Size([1, 1, 2, 2])\n",
            "torch.Size([1, 1, 2, 2])\n",
            "torch.Size([1, 1, 2, 2])\n",
            "torch.Size([1, 1, 2, 2])\n"
          ]
        },
        {
          "output_type": "stream",
          "name": "stderr",
          "text": [
            "  2%|▏         | 1012/45000 [00:13<08:05, 90.61it/s]"
          ]
        },
        {
          "output_type": "stream",
          "name": "stdout",
          "text": [
            "torch.Size([1, 1, 2, 2])\n",
            "torch.Size([1, 1, 2, 2])\n",
            "torch.Size([1, 1, 2, 2])\n",
            "torch.Size([1, 1, 2, 2])\n",
            "torch.Size([1, 1, 2, 2])\n",
            "torch.Size([1, 1, 2, 2])\n",
            "torch.Size([1, 1, 2, 2])\n",
            "torch.Size([1, 1, 2, 2])\n",
            "torch.Size([1, 1, 2, 2])\n",
            "torch.Size([1, 1, 2, 2])\n",
            "torch.Size([1, 1, 2, 2])\n",
            "torch.Size([1, 1, 2, 2])\n",
            "torch.Size([1, 1, 2, 2])\n",
            "torch.Size([1, 1, 2, 2])\n",
            "torch.Size([1, 1, 2, 2])\n",
            "torch.Size([1, 1, 2, 2])\n",
            "torch.Size([1, 1, 2, 2])\n",
            "torch.Size([1, 1, 2, 2])\n",
            "torch.Size([1, 1, 2, 2])\n",
            "torch.Size([1, 1, 2, 2])\n",
            "torch.Size([1, 1, 2, 2])"
          ]
        },
        {
          "output_type": "stream",
          "name": "stderr",
          "text": [
            "  2%|▏         | 1037/45000 [00:13<06:57, 105.28it/s]"
          ]
        },
        {
          "output_type": "stream",
          "name": "stdout",
          "text": [
            "\n",
            "torch.Size([1, 1, 2, 2])\n",
            "torch.Size([1, 1, 2, 2])\n",
            "torch.Size([1, 1, 2, 2])\n",
            "torch.Size([1, 1, 2, 2])\n",
            "torch.Size([1, 1, 2, 2])\n",
            "torch.Size([1, 1, 2, 2])\n",
            "torch.Size([1, 1, 2, 2])\n",
            "torch.Size([1, 1, 2, 2])\n",
            "torch.Size([1, 1, 2, 2])\n",
            "torch.Size([1, 1, 2, 2])\n",
            "torch.Size([1, 1, 2, 2])\n",
            "torch.Size([1, 1, 2, 2])\n",
            "torch.Size([1, 1, 2, 2])\n",
            "torch.Size([1, 1, 2, 2])\n",
            "torch.Size([1, 1, 2, 2])\n",
            "torch.Size([1, 1, 2, 2])\n",
            "torch.Size([1, 1, 2, 2])\n",
            "torch.Size([1, 1, 2, 2])\n",
            "torch.Size([1, 1, 2, 2])\n",
            "torch.Size([1, 1, 2, 2])\n",
            "torch.Size([1, 1, 2, 2])\n",
            "torch.Size([1, 1, 2, 2])\n",
            "torch.Size([1, 1, 2, 2])\n",
            "torch.Size([1, 1, 2, 2])\n",
            "torch.Size([1, 1, 2, 2])\n"
          ]
        },
        {
          "output_type": "stream",
          "name": "stderr",
          "text": [
            "  2%|▏         | 1063/45000 [00:14<06:32, 112.00it/s]"
          ]
        },
        {
          "output_type": "stream",
          "name": "stdout",
          "text": [
            "torch.Size([1, 1, 2, 2])\n",
            "torch.Size([1, 1, 2, 2])\n",
            "torch.Size([1, 1, 2, 2])\n",
            "torch.Size([1, 1, 2, 2])\n",
            "torch.Size([1, 1, 2, 2])\n",
            "torch.Size([1, 1, 2, 2])\n",
            "torch.Size([1, 1, 2, 2])\n",
            "torch.Size([1, 1, 2, 2])\n",
            "torch.Size([1, 1, 2, 2])\n",
            "torch.Size([1, 1, 2, 2])\n",
            "torch.Size([1, 1, 2, 2])\n",
            "torch.Size([1, 1, 2, 2])\n",
            "torch.Size([1, 1, 2, 2])\n",
            "torch.Size([1, 1, 2, 2])\n",
            "torch.Size([1, 1, 2, 2])\n",
            "torch.Size([1, 1, 2, 2])\n",
            "torch.Size([1, 1, 2, 2])\n",
            "torch.Size([1, 1, 2, 2])\n",
            "torch.Size([1, 1, 2, 2])\n",
            "torch.Size([1, 1, 2, 2])\n",
            "torch.Size([1, 1, 2, 2])\n",
            "torch.Size([1, 1, 2, 2])\n",
            "torch.Size([1, 1, 2, 2])\n",
            "torch.Size([1, 1, 2, 2])\n",
            "torch.Size([1, 1, 2, 2])\n"
          ]
        },
        {
          "output_type": "stream",
          "name": "stderr",
          "text": [
            "  2%|▏         | 1089/45000 [00:14<06:48, 107.44it/s]"
          ]
        },
        {
          "output_type": "stream",
          "name": "stdout",
          "text": [
            "torch.Size([1, 1, 2, 2])\n",
            "torch.Size([1, 1, 2, 2])\n",
            "torch.Size([1, 1, 2, 2])\n",
            "torch.Size([1, 1, 2, 2])\n",
            "torch.Size([1, 1, 2, 2])\n",
            "torch.Size([1, 1, 2, 2])\n",
            "torch.Size([1, 1, 2, 2])\n",
            "torch.Size([1, 1, 2, 2])\n",
            "torch.Size([1, 1, 2, 2])\n",
            "torch.Size([1, 1, 2, 2])\n",
            "torch.Size([1, 1, 2, 2])\n",
            "torch.Size([1, 1, 2, 2])\n",
            "torch.Size([1, 1, 2, 2])\n",
            "torch.Size([1, 1, 2, 2])\n",
            "torch.Size([1, 1, 2, 2])\n",
            "torch.Size([1, 1, 2, 2])\n",
            "torch.Size([1, 1, 2, 2])\n",
            "torch.Size([1, 1, 2, 2])\n",
            "torch.Size([1, 1, 2, 2])\n",
            "torch.Size([1, 1, 2, 2])\n",
            "torch.Size([1, 1, 2, 2])\n"
          ]
        },
        {
          "output_type": "stream",
          "name": "stderr",
          "text": [
            "\r  2%|▏         | 1101/45000 [00:14<07:25, 98.51it/s] "
          ]
        },
        {
          "output_type": "stream",
          "name": "stdout",
          "text": [
            "torch.Size([1, 1, 2, 2])\n",
            "torch.Size([1, 1, 2, 2])\n",
            "torch.Size([1, 1, 2, 2])\n",
            "torch.Size([1, 1, 2, 2])\n",
            "torch.Size([1, 1, 2, 2])\n",
            "torch.Size([1, 1, 2, 2])\n",
            "torch.Size([1, 1, 2, 2])\n",
            "torch.Size([1, 1, 2, 2])\n",
            "torch.Size([1, 1, 2, 2])\n",
            "torch.Size([1, 1, 2, 2])\n",
            "torch.Size([1, 1, 2, 2])\n",
            "torch.Size([1, 1, 2, 2])\n",
            "torch.Size([1, 1, 2, 2])\n",
            "torch.Size([1, 1, 2, 2])\n",
            "torch.Size([1, 1, 2, 2])\n",
            "torch.Size([1, 1, 2, 2])\n",
            "torch.Size([1, 1, 2, 2])\n"
          ]
        },
        {
          "output_type": "stream",
          "name": "stderr",
          "text": [
            "  2%|▏         | 1122/45000 [00:14<08:12, 89.07it/s]"
          ]
        },
        {
          "output_type": "stream",
          "name": "stdout",
          "text": [
            "torch.Size([1, 1, 2, 2])\n",
            "torch.Size([1, 1, 2, 2])\n",
            "torch.Size([1, 1, 2, 2])\n",
            "torch.Size([1, 1, 2, 2])\n",
            "torch.Size([1, 1, 2, 2])\n",
            "torch.Size([1, 1, 2, 2])\n",
            "torch.Size([1, 1, 2, 2])\n",
            "torch.Size([1, 1, 2, 2])\n",
            "torch.Size([1, 1, 2, 2])\n",
            "torch.Size([1, 1, 2, 2])\n",
            "torch.Size([1, 1, 2, 2])\n",
            "torch.Size([1, 1, 2, 2])\n",
            "torch.Size([1, 1, 2, 2])\n",
            "torch.Size([1, 1, 2, 2])\n",
            "torch.Size([1, 1, 2, 2])\n"
          ]
        },
        {
          "output_type": "stream",
          "name": "stderr",
          "text": [
            "\r  3%|▎         | 1132/45000 [00:14<08:58, 81.51it/s]"
          ]
        },
        {
          "output_type": "stream",
          "name": "stdout",
          "text": [
            "torch.Size([1, 1, 2, 2])\n",
            "torch.Size([1, 1, 2, 2])\n",
            "torch.Size([1, 1, 2, 2])\n",
            "torch.Size([1, 1, 2, 2])\n",
            "torch.Size([1, 1, 2, 2])\n",
            "torch.Size([1, 1, 2, 2])\n",
            "torch.Size([1, 1, 2, 2])\n",
            "torch.Size([1, 1, 2, 2])\n",
            "torch.Size([1, 1, 2, 2])\n",
            "torch.Size([1, 1, 2, 2])\n",
            "torch.Size([1, 1, 2, 2])\n",
            "torch.Size([1, 1, 2, 2])\n",
            "torch.Size([1, 1, 2, 2])\n",
            "torch.Size([1, 1, 2, 2])\n",
            "torch.Size([1, 1, 2, 2])\n"
          ]
        },
        {
          "output_type": "stream",
          "name": "stderr",
          "text": [
            "  3%|▎         | 1149/45000 [00:15<09:19, 78.40it/s]"
          ]
        },
        {
          "output_type": "stream",
          "name": "stdout",
          "text": [
            "torch.Size([1, 1, 2, 2])\n",
            "torch.Size([1, 1, 2, 2])\n",
            "torch.Size([1, 1, 2, 2])\n",
            "torch.Size([1, 1, 2, 2])\n",
            "torch.Size([1, 1, 2, 2])\n",
            "torch.Size([1, 1, 2, 2])\n",
            "torch.Size([1, 1, 2, 2])\n",
            "torch.Size([1, 1, 2, 2])\n",
            "torch.Size([1, 1, 2, 2])\n",
            "torch.Size([1, 1, 2, 2])\n",
            "torch.Size([1, 1, 2, 2])\n",
            "torch.Size([1, 1, 2, 2])\n",
            "torch.Size([1, 1, 2, 2])\n",
            "torch.Size([1, 1, 2, 2])\n",
            "torch.Size([1, 1, 2, 2])\n"
          ]
        },
        {
          "output_type": "stream",
          "name": "stderr",
          "text": [
            "  3%|▎         | 1165/45000 [00:15<09:46, 74.69it/s]"
          ]
        },
        {
          "output_type": "stream",
          "name": "stdout",
          "text": [
            "torch.Size([1, 1, 2, 2])\n",
            "torch.Size([1, 1, 2, 2])\n",
            "torch.Size([1, 1, 2, 2])\n",
            "torch.Size([1, 1, 2, 2])\n",
            "torch.Size([1, 1, 2, 2])\n",
            "torch.Size([1, 1, 2, 2])\n",
            "torch.Size([1, 1, 2, 2])\n",
            "torch.Size([1, 1, 2, 2])\n",
            "torch.Size([1, 1, 2, 2])\n",
            "torch.Size([1, 1, 2, 2])\n",
            "torch.Size([1, 1, 2, 2])\n",
            "torch.Size([1, 1, 2, 2])\n",
            "torch.Size([1, 1, 2, 2])\n",
            "torch.Size([1, 1, 2, 2])\n",
            "torch.Size([1, 1, 2, 2])\n",
            "torch.Size([1, 1, 2, 2])\n"
          ]
        },
        {
          "output_type": "stream",
          "name": "stderr",
          "text": [
            "  3%|▎         | 1181/45000 [00:15<09:39, 75.60it/s]"
          ]
        },
        {
          "output_type": "stream",
          "name": "stdout",
          "text": [
            "torch.Size([1, 1, 2, 2])\n",
            "torch.Size([1, 1, 2, 2])\n",
            "torch.Size([1, 1, 2, 2])\n",
            "torch.Size([1, 1, 2, 2])\n",
            "torch.Size([1, 1, 2, 2])\n",
            "torch.Size([1, 1, 2, 2])\n",
            "torch.Size([1, 1, 2, 2])\n",
            "torch.Size([1, 1, 2, 2])\n",
            "torch.Size([1, 1, 2, 2])\n",
            "torch.Size([1, 1, 2, 2])\n",
            "torch.Size([1, 1, 2, 2])\n",
            "torch.Size([1, 1, 2, 2])\n",
            "torch.Size([1, 1, 2, 2])\n",
            "torch.Size([1, 1, 2, 2])\n",
            "torch.Size([1, 1, 2, 2])\n",
            "torch.Size([1, 1, 2, 2])"
          ]
        },
        {
          "output_type": "stream",
          "name": "stderr",
          "text": [
            "\r  3%|▎         | 1189/45000 [00:15<10:22, 70.34it/s]"
          ]
        },
        {
          "output_type": "stream",
          "name": "stdout",
          "text": [
            "\n",
            "torch.Size([1, 1, 2, 2])\n",
            "torch.Size([1, 1, 2, 2])\n",
            "torch.Size([1, 1, 2, 2])\n",
            "torch.Size([1, 1, 2, 2])\n",
            "torch.Size([1, 1, 2, 2])\n",
            "torch.Size([1, 1, 2, 2])\n",
            "torch.Size([1, 1, 2, 2])\n",
            "torch.Size([1, 1, 2, 2])\n",
            "torch.Size([1, 1, 2, 2])\n",
            "torch.Size([1, 1, 2, 2])\n",
            "torch.Size([1, 1, 2, 2])\n",
            "torch.Size([1, 1, 2, 2])"
          ]
        },
        {
          "output_type": "stream",
          "name": "stderr",
          "text": [
            "  3%|▎         | 1204/45000 [00:15<11:49, 61.72it/s]"
          ]
        },
        {
          "output_type": "stream",
          "name": "stdout",
          "text": [
            "\n",
            "torch.Size([1, 1, 2, 2])\n",
            "torch.Size([1, 1, 2, 2])\n",
            "torch.Size([1, 1, 2, 2])\n",
            "torch.Size([1, 1, 2, 2])\n",
            "torch.Size([1, 1, 2, 2])\n",
            "torch.Size([1, 1, 2, 2])\n",
            "torch.Size([1, 1, 2, 2])\n",
            "torch.Size([1, 1, 2, 2])\n",
            "torch.Size([1, 1, 2, 2])\n",
            "torch.Size([1, 1, 2, 2])\n",
            "torch.Size([1, 1, 2, 2])\n"
          ]
        },
        {
          "output_type": "stream",
          "name": "stderr",
          "text": [
            "  3%|▎         | 1219/45000 [00:16<11:36, 62.87it/s]"
          ]
        },
        {
          "output_type": "stream",
          "name": "stdout",
          "text": [
            "torch.Size([1, 1, 2, 2])\n",
            "torch.Size([1, 1, 2, 2])\n",
            "torch.Size([1, 1, 2, 2])\n",
            "torch.Size([1, 1, 2, 2])\n",
            "torch.Size([1, 1, 2, 2])\n",
            "torch.Size([1, 1, 2, 2])\n",
            "torch.Size([1, 1, 2, 2])\n",
            "torch.Size([1, 1, 2, 2])\n",
            "torch.Size([1, 1, 2, 2])\n",
            "torch.Size([1, 1, 2, 2])\n",
            "torch.Size([1, 1, 2, 2])\n",
            "torch.Size([1, 1, 2, 2])\n",
            "torch.Size([1, 1, 2, 2])\n",
            "torch.Size([1, 1, 2, 2])\n"
          ]
        },
        {
          "output_type": "stream",
          "name": "stderr",
          "text": [
            "\r  3%|▎         | 1226/45000 [00:16<12:08, 60.10it/s]"
          ]
        },
        {
          "output_type": "stream",
          "name": "stdout",
          "text": [
            "torch.Size([1, 1, 2, 2])\n",
            "torch.Size([1, 1, 2, 2])\n",
            "torch.Size([1, 1, 2, 2])\n",
            "torch.Size([1, 1, 2, 2])\n",
            "torch.Size([1, 1, 2, 2])\n",
            "torch.Size([1, 1, 2, 2])\n",
            "torch.Size([1, 1, 2, 2])\n",
            "torch.Size([1, 1, 2, 2])\n",
            "torch.Size([1, 1, 2, 2])\n",
            "torch.Size([1, 1, 2, 2])\n",
            "torch.Size([1, 1, 2, 2])\n"
          ]
        },
        {
          "output_type": "stream",
          "name": "stderr",
          "text": [
            "  3%|▎         | 1239/45000 [00:16<13:43, 53.12it/s]"
          ]
        },
        {
          "output_type": "stream",
          "name": "stdout",
          "text": [
            "torch.Size([1, 1, 2, 2])\n",
            "torch.Size([1, 1, 2, 2])\n",
            "torch.Size([1, 1, 2, 2])\n",
            "torch.Size([1, 1, 2, 2])\n",
            "torch.Size([1, 1, 2, 2])\n",
            "torch.Size([1, 1, 2, 2])\n",
            "torch.Size([1, 1, 2, 2])\n",
            "torch.Size([1, 1, 2, 2])\n",
            "torch.Size([1, 1, 2, 2])\n",
            "torch.Size([1, 1, 2, 2])\n",
            "torch.Size([1, 1, 2, 2])\n",
            "torch.Size([1, 1, 2, 2])\n"
          ]
        },
        {
          "output_type": "stream",
          "name": "stderr",
          "text": [
            "  3%|▎         | 1255/45000 [00:16<09:48, 74.38it/s]"
          ]
        },
        {
          "output_type": "stream",
          "name": "stdout",
          "text": [
            "torch.Size([1, 1, 2, 2])\n",
            "torch.Size([1, 1, 2, 2])\n",
            "torch.Size([1, 1, 2, 2])\n",
            "torch.Size([1, 1, 2, 2])\n",
            "torch.Size([1, 1, 2, 2])\n",
            "torch.Size([1, 1, 2, 2])\n",
            "torch.Size([1, 1, 2, 2])\n",
            "torch.Size([1, 1, 2, 2])\n",
            "torch.Size([1, 1, 2, 2])\n",
            "torch.Size([1, 1, 2, 2])\n",
            "torch.Size([1, 1, 2, 2])\n"
          ]
        },
        {
          "output_type": "stream",
          "name": "stderr",
          "text": [
            "\n"
          ]
        },
        {
          "output_type": "error",
          "ename": "KeyboardInterrupt",
          "evalue": "ignored",
          "traceback": [
            "\u001b[0;31m---------------------------------------------------------------------------\u001b[0m",
            "\u001b[0;31mKeyboardInterrupt\u001b[0m                         Traceback (most recent call last)",
            "\u001b[0;32m<ipython-input-15-782a5fbcac78>\u001b[0m in \u001b[0;36m<module>\u001b[0;34m\u001b[0m\n\u001b[1;32m     13\u001b[0m         \u001b[0mpred\u001b[0m \u001b[0;34m=\u001b[0m \u001b[0mmodel\u001b[0m\u001b[0;34m(\u001b[0m\u001b[0mdata\u001b[0m\u001b[0;34m,\u001b[0m \u001b[0mgraph_shift_operator\u001b[0m\u001b[0;34m)\u001b[0m\u001b[0;34m\u001b[0m\u001b[0;34m\u001b[0m\u001b[0m\n\u001b[1;32m     14\u001b[0m         \u001b[0mloss\u001b[0m \u001b[0;34m=\u001b[0m \u001b[0mmodel\u001b[0m\u001b[0;34m.\u001b[0m\u001b[0mloss\u001b[0m\u001b[0;34m(\u001b[0m\u001b[0mpred\u001b[0m\u001b[0;34m.\u001b[0m\u001b[0mreshape\u001b[0m\u001b[0;34m(\u001b[0m\u001b[0;34m-\u001b[0m\u001b[0;36m1\u001b[0m\u001b[0;34m,\u001b[0m \u001b[0mpred\u001b[0m\u001b[0;34m.\u001b[0m\u001b[0mshape\u001b[0m\u001b[0;34m[\u001b[0m\u001b[0;34m-\u001b[0m\u001b[0;36m1\u001b[0m\u001b[0;34m]\u001b[0m\u001b[0;34m)\u001b[0m\u001b[0;34m,\u001b[0m \u001b[0mlabel\u001b[0m\u001b[0;34m.\u001b[0m\u001b[0mreshape\u001b[0m\u001b[0;34m(\u001b[0m\u001b[0;34m-\u001b[0m\u001b[0;36m1\u001b[0m\u001b[0;34m)\u001b[0m\u001b[0;34m)\u001b[0m\u001b[0;34m\u001b[0m\u001b[0;34m\u001b[0m\u001b[0m\n\u001b[0;32m---> 15\u001b[0;31m         \u001b[0mloss\u001b[0m\u001b[0;34m.\u001b[0m\u001b[0mbackward\u001b[0m\u001b[0;34m(\u001b[0m\u001b[0;34m)\u001b[0m\u001b[0;34m\u001b[0m\u001b[0;34m\u001b[0m\u001b[0m\n\u001b[0m\u001b[1;32m     16\u001b[0m         \u001b[0moptimizer\u001b[0m\u001b[0;34m.\u001b[0m\u001b[0mstep\u001b[0m\u001b[0;34m(\u001b[0m\u001b[0;34m)\u001b[0m\u001b[0;34m\u001b[0m\u001b[0;34m\u001b[0m\u001b[0m\n\u001b[1;32m     17\u001b[0m \u001b[0;34m\u001b[0m\u001b[0m\n",
            "\u001b[0;32m/usr/local/lib/python3.7/dist-packages/torch/_tensor.py\u001b[0m in \u001b[0;36mbackward\u001b[0;34m(self, gradient, retain_graph, create_graph, inputs)\u001b[0m\n\u001b[1;32m    394\u001b[0m                 \u001b[0mcreate_graph\u001b[0m\u001b[0;34m=\u001b[0m\u001b[0mcreate_graph\u001b[0m\u001b[0;34m,\u001b[0m\u001b[0;34m\u001b[0m\u001b[0;34m\u001b[0m\u001b[0m\n\u001b[1;32m    395\u001b[0m                 inputs=inputs)\n\u001b[0;32m--> 396\u001b[0;31m         \u001b[0mtorch\u001b[0m\u001b[0;34m.\u001b[0m\u001b[0mautograd\u001b[0m\u001b[0;34m.\u001b[0m\u001b[0mbackward\u001b[0m\u001b[0;34m(\u001b[0m\u001b[0mself\u001b[0m\u001b[0;34m,\u001b[0m \u001b[0mgradient\u001b[0m\u001b[0;34m,\u001b[0m \u001b[0mretain_graph\u001b[0m\u001b[0;34m,\u001b[0m \u001b[0mcreate_graph\u001b[0m\u001b[0;34m,\u001b[0m \u001b[0minputs\u001b[0m\u001b[0;34m=\u001b[0m\u001b[0minputs\u001b[0m\u001b[0;34m)\u001b[0m\u001b[0;34m\u001b[0m\u001b[0;34m\u001b[0m\u001b[0m\n\u001b[0m\u001b[1;32m    397\u001b[0m \u001b[0;34m\u001b[0m\u001b[0m\n\u001b[1;32m    398\u001b[0m     \u001b[0;32mdef\u001b[0m \u001b[0mregister_hook\u001b[0m\u001b[0;34m(\u001b[0m\u001b[0mself\u001b[0m\u001b[0;34m,\u001b[0m \u001b[0mhook\u001b[0m\u001b[0;34m)\u001b[0m\u001b[0;34m:\u001b[0m\u001b[0;34m\u001b[0m\u001b[0;34m\u001b[0m\u001b[0m\n",
            "\u001b[0;32m/usr/local/lib/python3.7/dist-packages/torch/autograd/__init__.py\u001b[0m in \u001b[0;36mbackward\u001b[0;34m(tensors, grad_tensors, retain_graph, create_graph, grad_variables, inputs)\u001b[0m\n\u001b[1;32m    173\u001b[0m     Variable._execution_engine.run_backward(  # Calls into the C++ engine to run the backward pass\n\u001b[1;32m    174\u001b[0m         \u001b[0mtensors\u001b[0m\u001b[0;34m,\u001b[0m \u001b[0mgrad_tensors_\u001b[0m\u001b[0;34m,\u001b[0m \u001b[0mretain_graph\u001b[0m\u001b[0;34m,\u001b[0m \u001b[0mcreate_graph\u001b[0m\u001b[0;34m,\u001b[0m \u001b[0minputs\u001b[0m\u001b[0;34m,\u001b[0m\u001b[0;34m\u001b[0m\u001b[0;34m\u001b[0m\u001b[0m\n\u001b[0;32m--> 175\u001b[0;31m         allow_unreachable=True, accumulate_grad=True)  # Calls into the C++ engine to run the backward pass\n\u001b[0m\u001b[1;32m    176\u001b[0m \u001b[0;34m\u001b[0m\u001b[0m\n\u001b[1;32m    177\u001b[0m def grad(\n",
            "\u001b[0;31mKeyboardInterrupt\u001b[0m: "
          ]
        }
      ],
      "source": [
        "train_losses, val_losses = [], []\n",
        "for epoch in range(epochs):\n",
        "    train_loss = 0.0\n",
        "    start = time.time()\n",
        "    model.train()\n",
        "    for batch_id, (data, label) in enumerate(tqdm(train_loader)):\n",
        "        batch_size = data.size(0)\n",
        "        print(data.size())\n",
        "        graph_shift_operator = torch.stack([create_graph_shift_operator(data[b].squeeze().detach().numpy()) for b in range(batch_size)])\n",
        "        data, label = data.to(device), label.to(device)\n",
        "        data = data.reshape(batch_size, -1, 1)\n",
        "        optimizer.zero_grad()\n",
        "        pred = model(data, graph_shift_operator)\n",
        "        loss = model.loss(pred.reshape(-1, pred.shape[-1]), label.reshape(-1))\n",
        "        loss.backward()\n",
        "        optimizer.step()\n",
        "\n",
        "        train_loss += loss.item() / len(train_loader)\n",
        "    train_losses.append(train_loss)\n",
        "\n",
        "    val_loss = 0.0\n",
        "    model.eval()\n",
        "    with torch.no_grad():\n",
        "        for batch_id, (data, label) in enumerate(tqdm(val_loader)):\n",
        "            batch_size = data.size(0)\n",
        "            graph_shift_operator = torch.stack([create_graph_shift_operator(data[b].squeeze().detach().numpy()) for b in range(batch_size)])\n",
        "            data, label = data.to(device), label.to(device)\n",
        "            data = data.reshape(batch_size, -1, 1)\n",
        "            pred = model(data, graph_shift_operator)\n",
        "            loss = model.loss(pred.reshape(-1, pred.shape[-1]), label.reshape(-1))\n",
        "\n",
        "            val_loss += loss.item() / len(val_loader)\n",
        "\n",
        "        val_losses.append(val_loss)\n",
        "\n",
        "        end = time.time()\n",
        "\n",
        "        print('Epoch: [{}/{}] - Train loss: {:.6f} - Val loss: {:.6f} - Time: {:.6f}'.format(epoch + 1, epochs, train_loss, val_loss, end - start))"
      ]
    },
    {
      "cell_type": "code",
      "execution_count": null,
      "metadata": {
        "id": "m5e5NhYbSb5d"
      },
      "outputs": [],
      "source": [
        "plt.plot(train_losses, label='Train loss')\n",
        "plt.plot(val_losses, label='Val loss')\n",
        "plt.legend()\n",
        "plt.show()"
      ]
    },
    {
      "cell_type": "code",
      "execution_count": null,
      "metadata": {
        "id": "Jm9T5rXeScei"
      },
      "outputs": [],
      "source": [
        "confusion_matrix = np.zeros((10, 10))\n",
        "\n",
        "with torch.no_grad():\n",
        "    for batch_id, (data, label) in enumerate(tqdm(test_loader)):\n",
        "        batch_size = data.size(0)\n",
        "        graph_shift_operator = torch.stack([create_graph_shift_operator(data[b].squeeze().detach().numpy()) for b in range(batch_size)])\n",
        "        data, label = data.to(device), label.to(device)\n",
        "        \n",
        "\n",
        "        data = data.reshape(batch_size, -1, 1)\n",
        "        outputs = model(data, graph_shift_operator)\n",
        "\n",
        "        preds = torch.argmax(outputs, -1)\n",
        "        \n",
        "        for t, p in zip(label.reshape(-1), preds.reshape(-1)):\n",
        "            confusion_matrix[t.long(), p.long()] += 1\n"
      ]
    },
    {
      "cell_type": "code",
      "execution_count": null,
      "metadata": {
        "id": "iV4KYL5WjTye"
      },
      "outputs": [],
      "source": [
        "\n",
        "print('Per-class accuracy', 100 * np.diag(confusion_matrix) / confusion_matrix.sum(1))\n",
        "print('Accuracy:', 100 * np.diag(confusion_matrix).sum() / confusion_matrix.sum())\n",
        "\n",
        "normalized_confusion_matrix = confusion_matrix / confusion_matrix.sum(axis = 1, keepdims = True)\n",
        "\n",
        "ax = sns.heatmap(normalized_confusion_matrix, fmt='')\n",
        "ax.set_title('Confusion Matrix');\n",
        "ax.set_xlabel('Predicted Values')\n",
        "ax.set_ylabel('Actual Values ');\n",
        "plt.show()"
      ]
    },
    {
      "cell_type": "code",
      "execution_count": null,
      "metadata": {
        "id": "bLYZQxZQXqTc"
      },
      "outputs": [],
      "source": [
        "# torch.save(model.state_dict(), '/content/drive/MyDrive/model_GCN_v2.pt')"
      ]
    }
  ],
  "metadata": {
    "colab": {
      "provenance": []
    },
    "kernelspec": {
      "display_name": "Python 3",
      "name": "python3"
    },
    "language_info": {
      "name": "python"
    },
    "accelerator": "GPU",
    "gpuClass": "standard"
  },
  "nbformat": 4,
  "nbformat_minor": 0
}