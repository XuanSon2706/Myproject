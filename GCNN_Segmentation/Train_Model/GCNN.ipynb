{
  "cells": [
    {
      "cell_type": "code",
      "execution_count": null,
      "metadata": {
        "id": "7lzpQDawtWqi"
      },
      "outputs": [],
      "source": [
        "import time\n",
        "import os\n",
        "\n",
        "import cv2 as cv\n",
        "import numpy as np\n",
        "import matplotlib.pyplot as plt\n",
        "\n",
        "import torch\n",
        "import torch.nn as nn\n",
        "import torch.nn.functional as F\n",
        "import torch.optim as optim\n",
        "\n",
        "import torchvision\n",
        "\n",
        "from tqdm.autonotebook import tqdm\n",
        "from torch.utils.data import Dataset\n",
        "from torchvision import transforms\n",
        "from scipy.spatial.distance import cdist"
      ]
    },
    {
      "cell_type": "code",
      "execution_count": null,
      "metadata": {
        "colab": {
          "base_uri": "https://localhost:8080/"
        },
        "id": "CyupSUmLRFJC",
        "outputId": "3a4a9942-7b78-4bed-8f3c-a060ff2d416b"
      },
      "outputs": [],
      "source": [
        "device = torch.device(\"cuda:0\") if torch.cuda.is_available() else torch.device(\"cpu\")\n",
        "print(device)"
      ]
    },
    {
      "cell_type": "code",
      "execution_count": null,
      "metadata": {
        "id": "DEtO14YELcDD"
      },
      "outputs": [],
      "source": [
        "img_size = 68\n",
        "\n",
        "epochs = 2000\n",
        "batch_size = 32\n",
        "learning_rate = 0.258"
      ]
    },
    {
      "cell_type": "code",
      "execution_count": null,
      "metadata": {},
      "outputs": [],
      "source": [
        "class CustomDataset(Dataset):\n",
        "    def __init__(self, img_dir, mask_dir, transform = None):\n",
        "        self.img = img_dir\n",
        "        self.mask = mask_dir\n",
        "        self.transform = transform\n",
        "        self.imgpath = os.listdir(img_dir)\n",
        "        self.mskpath = os.listdir(mask_dir)\n",
        "\n",
        "    def __len__(self):\n",
        "        return len(self.imgpath)\n",
        "        \n",
        "    \n",
        "    def __getitem__(self, index):\n",
        "        img_path = os.path.join(self.img, self.imgpath[index])\n",
        "        mask_path = os.path.join(self.mask, self.mskpath[index])\n",
        "\n",
        "        image = cv.resize(cv.imread(img_path,cv.IMREAD_GRAYSCALE),(img_size,img_size))\n",
        "        mask = cv.resize(cv.imread(mask_path,cv.IMREAD_GRAYSCALE),(img_size,img_size)) \n",
        "        \n",
        "        if self.transform:\n",
        "            image = self.transform(image)\n",
        "            mask = self.transform(mask)\n",
        "        \n",
        "        return (image, mask)"
      ]
    },
    {
      "cell_type": "code",
      "execution_count": null,
      "metadata": {},
      "outputs": [],
      "source": [
        "path_data_train = \"C:/Users/sonbu/Desktop/LVTN/Dataset/LGG/Images\"\n",
        "path_mask_train = \"C:/Users/sonbu/Desktop/LVTN/Dataset/LGG/Masks\"\n",
        "\n",
        "dataset = CustomDataset(img_dir = path_data_train, mask_dir = path_mask_train,transform = transforms.ToTensor())"
      ]
    },
    {
      "cell_type": "code",
      "execution_count": null,
      "metadata": {},
      "outputs": [],
      "source": [
        "train_size = int(0.8 * len(dataset))\n",
        "val_size = int(0.1 * len(dataset))\n",
        "test_size = len(dataset) - train_size - val_size\n",
        "\n",
        "train, val, test = torch.utils.data.random_split(dataset, [train_size, val_size, test_size])\n",
        "\n",
        "train_loader = torch.utils.data.DataLoader(train, batch_size=batch_size, shuffle=False)\n",
        "val_loader = torch.utils.data.DataLoader(val, batch_size=batch_size, shuffle=True)\n",
        "\n",
        "test_loader = torch.utils.data.DataLoader(test, batch_size=batch_size, shuffle=True)"
      ]
    },
    {
      "cell_type": "code",
      "execution_count": null,
      "metadata": {},
      "outputs": [],
      "source": [
        "def create_adj_matrix(size):\n",
        "    \n",
        "    col, row = np.meshgrid(np.arange(size), np.arange(size))\n",
        "    coord = np.stack((col, row), axis=2).reshape(-1, 2)/ size\n",
        "    dist = torch.from_numpy(cdist(coord, coord)).float().to(device)\n",
        "    sigma_dist = torch.var(dist)\n",
        "\n",
        "    A = torch.exp(-dist**2 / sigma_dist)\n",
        "    \n",
        "    D = torch.diag(torch.sum(A, axis=1))\n",
        "    D_hat = torch.sqrt(torch.linalg.inv(D))\n",
        "\n",
        "    A_hat =  torch.matmul(D_hat, torch.matmul(A, D_hat))\n",
        "    \n",
        "    return A_hat\n",
        "\n",
        "adj = create_adj_matrix(size=img_size)"
      ]
    },
    {
      "cell_type": "code",
      "execution_count": null,
      "metadata": {
        "id": "DwDSS-HbtJMy"
      },
      "outputs": [],
      "source": [
        "class GraphConvolution(nn.Module):\n",
        "    def __init__(self, in_features, out_features):\n",
        "        super().__init__()\n",
        "        self.in_features = in_features\n",
        "        self.out_features = out_features\n",
        "        self.projection = nn.Linear(in_features, out_features, bias=False)\n",
        "\n",
        "    def forward(self, input, adj):\n",
        "        batch_size = input.size(0)\n",
        "        support = self.projection(input)\n",
        "        output = torch.stack([torch.mm(adj, support[b]) for b in range(batch_size)])\n",
        "        return output"
      ]
    },
    {
      "cell_type": "code",
      "execution_count": null,
      "metadata": {
        "id": "GpYzPfUGuSBt"
      },
      "outputs": [],
      "source": [
        "class GCNN(nn.Module):\n",
        "    def __init__(self, img_size, in_features, adj):\n",
        "        super().__init__()\n",
        "        self.N = img_size ** 2\n",
        "        self.adj = nn.Parameter(adj)\n",
        "        self.gc1 = GraphConvolution(in_features, 16)\n",
        "        self.gc2 = GraphConvolution(16, 32)\n",
        "        self.gc3 = GraphConvolution(32, 64)\n",
        "        self.gc4 = GraphConvolution(64, 128)\n",
        "        self.gc5 = GraphConvolution(128, 256)\n",
        "        self.gc6 = GraphConvolution(256, 1)\n",
        "\n",
        "    def forward(self, x):\n",
        "        x = F.relu(self.gc1(x, self.adj))\n",
        "        x = F.relu(self.gc2(x, self.adj))\n",
        "        x = F.relu(self.gc3(x, self.adj))\n",
        "        x = F.relu(self.gc4(x, self.adj))\n",
        "        x = F.relu(self.gc5(x, self.adj))\n",
        "        x = self.gc6(x, self.adj)\n",
        "        return torch.sigmoid(x)"
      ]
    },
    {
      "cell_type": "code",
      "execution_count": null,
      "metadata": {
        "colab": {
          "base_uri": "https://localhost:8080/"
        },
        "id": "D2-CvuMv05zX",
        "outputId": "cef70876-11bf-473e-e448-f4539c6dad78"
      },
      "outputs": [],
      "source": [
        "model = GCNN(img_size=img_size, in_features=1, adj = adj).to(device)\n",
        "optimizer = optim.SGD(model.parameters(), lr=learning_rate)\n",
        "loss_func = nn.BCELoss()"
      ]
    },
    {
      "cell_type": "code",
      "execution_count": null,
      "metadata": {
        "colab": {
          "base_uri": "https://localhost:8080/"
        },
        "id": "6CKdDnAJbZdc",
        "outputId": "718018a6-3187-4bd8-8dd6-5c0f1df8e51a"
      },
      "outputs": [],
      "source": [
        "train_losses, val_losses = [], []\n",
        "\n",
        "for epoch in range(epochs):\n",
        "    start = time.time()\n",
        "\n",
        "    train_loss = 0.0  \n",
        "    model.train()\n",
        "    for batch_id, (data, label) in enumerate((train_loader)):\n",
        "        batch_size = data.size(0)\n",
        "        data, label = data.to(device), label.to(device)\n",
        "        data = data.permute(0, 2, 3, 1).reshape(batch_size, -1, 1)\n",
        "        label = label.reshape(batch_size, -1, 1)\n",
        "        optimizer.zero_grad()\n",
        "        pred = model(data)\n",
        "        loss = loss_func(pred, label)\n",
        "        loss.backward()\n",
        "        optimizer.step()\n",
        "\n",
        "        train_loss += loss.item() / len(train_loader)\n",
        "\n",
        "    train_losses.append(train_loss)\n",
        "\n",
        "    val_loss = 0.0\n",
        "    model.eval()\n",
        "    with torch.no_grad():\n",
        "        for batch_id, (data, label) in enumerate((val_loader)):\n",
        "            batch_size = data.size(0)\n",
        "            data, label = data.to(device), label.to(device)\n",
        "            data = data.permute(0, 2, 3, 1).reshape(batch_size, -1, 1)\n",
        "            label = label.reshape(batch_size, -1, 1)\n",
        "            pred = model(data)\n",
        "            loss = loss_func(pred, label)\n",
        "        \n",
        "            val_loss += loss.item() / len(val_loader)\n",
        "\n",
        "    val_losses.append(val_loss)\n",
        "\n",
        "    end = time.time()\n",
        "    \n",
        "    print('Epoch: [{:4}/{:4}] - Train loss: {:.4f} - Val loss: {:.4f} - Time: {:.2f}'.format(epoch + 1, epochs, train_loss, val_loss, end - start))"
      ]
    },
    {
      "cell_type": "code",
      "execution_count": null,
      "metadata": {
        "colab": {
          "base_uri": "https://localhost:8080/",
          "height": 265
        },
        "id": "i4gAnJyTmTFX",
        "outputId": "f39dbf05-b400-4e7a-ff44-e6a0f749abdf"
      },
      "outputs": [],
      "source": [
        "plt.plot(train_losses, label='Train loss')\n",
        "plt.plot(val_losses, label='Val loss')\n",
        "plt.legend()\n",
        "plt.show()"
      ]
    },
    {
      "cell_type": "code",
      "execution_count": null,
      "metadata": {},
      "outputs": [],
      "source": [
        "#torch.save(model.state_dict(), 'C:/Users/sonbu/Desktop/LVTN/Model/GCNN/GCNN_LGG.pt')"
      ]
    },
    {
      "cell_type": "code",
      "execution_count": null,
      "metadata": {
        "colab": {
          "base_uri": "https://localhost:8080/",
          "height": 1000
        },
        "id": "Gsw1WDtmJNAf",
        "outputId": "cbf326d6-888c-4717-d33f-497e621a98f3"
      },
      "outputs": [],
      "source": [
        "from sklearn.metrics import precision_recall_fscore_support,confusion_matrix, jaccard_score\n",
        "test_accuracy, pre, sen, dsc, spe, iou = [0.0, 0.0, 0.0, 0.0, 0.0, 0.0]\n",
        "length_data = len(test_loader)\n",
        "\n",
        "model.eval()\n",
        "\n",
        "with torch.no_grad():\n",
        "    for batch_id, (data, label) in enumerate(train_loader):\n",
        "        \n",
        "        batch_size = data.size(0)\n",
        "        data, label = data.to(device), label.to(device)\n",
        "        data = data.permute(0, 2, 3, 1).view(batch_size, -1, 1)\n",
        "        label = label.view(batch_size, -1, 1)\n",
        "        \n",
        "        pred = model(data)\n",
        "        loss = loss_func(pred, label)\n",
        "\n",
        "        pred[pred > 0.5] = 1\n",
        "        pred[pred <= 0.5] = 0\n",
        "        lb = label\n",
        "        lb[lb > 0.5] = 1\n",
        "        lb[lb <= 0.5] = 0\n",
        "       \n",
        "    \n",
        "        total_test= lb.numel()\n",
        "        correct_test = pred.eq(lb).sum().item()\n",
        "        test_accuracy += (float(correct_test*100) / total_test)\n",
        "\n",
        "        precision,recall, f1_score, sup = precision_recall_fscore_support(lb.view(-1, 1).cpu().numpy(), pred.view(-1, 1).cpu().numpy(),zero_division=1, average='binary')\n",
        "        cm = confusion_matrix(lb.view(-1, 1).cpu().numpy(), pred.view(-1, 1).cpu().numpy())\n",
        "        specificity = cm[0,0]/(cm[0,0]+cm[0,1])\n",
        "        iou_score = jaccard_score(lb.view(-1, 1).cpu().numpy(), pred.view(-1, 1).cpu().numpy())\n",
        "        pre += precision\n",
        "        sen += recall\n",
        "        dsc += f1_score\n",
        "        spe += specificity\n",
        "        \n",
        "        #print('IoU: {:.2f}%'.format(iou_score*100))\n",
        "        \n",
        "        plt.figure()\n",
        "        plt.subplot(131)\n",
        "        plt.title(\"Ảnh gốc\")\n",
        "        plt.imshow(data[0].view(img_size, img_size).cpu().detach().numpy())\n",
        "        plt.subplot(132)\n",
        "        plt.title(\"Ground Truth\")\n",
        "        plt.imshow(label[0].view(img_size, img_size).cpu().detach().numpy(), cmap='gray')\n",
        "        plt.subplot(133)\n",
        "        plt.title(\"Predicted\")\n",
        "        plt.imshow(pred[0].view(img_size, img_size).cpu().detach().numpy(), cmap='gray')\n",
        "        plt.show()\n",
        "    \n",
        "    print('Accurcy: {:.2f} - DSC: {:.2f}% - PRE: {:.2f}% - SEN: {:.2f}% - SPE: {:.2f}%'.format(test_accuracy /length_data, dsc*100/length_data, pre*100/length_data, sen*100/length_data, spe*100/length_data))\n",
        "\n",
        "        "
      ]
    },
    {
      "cell_type": "markdown",
      "metadata": {
        "id": "skLtPZTr0ZeO"
      },
      "source": []
    }
  ],
  "metadata": {
    "accelerator": "GPU",
    "colab": {
      "collapsed_sections": [],
      "name": "graphCNN.ipynb",
      "provenance": []
    },
    "kernelspec": {
      "display_name": "Python 3.10.8 64-bit",
      "language": "python",
      "name": "python3"
    },
    "language_info": {
      "codemirror_mode": {
        "name": "ipython",
        "version": 3
      },
      "file_extension": ".py",
      "mimetype": "text/x-python",
      "name": "python",
      "nbconvert_exporter": "python",
      "pygments_lexer": "ipython3",
      "version": "3.10.8"
    },
    "vscode": {
      "interpreter": {
        "hash": "fbbb231911cbce89021b44f8f04d4dc79a724c42e2e803ebfe8a7109727b58ea"
      }
    }
  },
  "nbformat": 4,
  "nbformat_minor": 0
}
