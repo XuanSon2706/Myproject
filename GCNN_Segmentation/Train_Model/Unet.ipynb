{
 "cells": [
  {
   "cell_type": "code",
   "execution_count": null,
   "metadata": {},
   "outputs": [],
   "source": [
    "import time\n",
    "import os\n",
    "\n",
    "import cv2 as cv\n",
    "import numpy as np\n",
    "import matplotlib.pyplot as plt\n",
    "\n",
    "import torch\n",
    "import torch.nn as nn\n",
    "import torch.nn.functional as F\n",
    "import torch.optim as optim \n",
    "\n",
    "import torchvision\n",
    "import torchvision.transforms.functional as TF\n",
    "\n",
    "from torch.utils.data import Dataset\n",
    "from torchvision import transforms\n",
    "from tqdm.autonotebook import tqdm "
   ]
  },
  {
   "cell_type": "code",
   "execution_count": null,
   "metadata": {},
   "outputs": [],
   "source": [
    "device = torch.device(\"cuda:0\") if torch.cuda.is_available() else torch.device(\"cpu\")\n",
    "print(device)"
   ]
  },
  {
   "cell_type": "code",
   "execution_count": null,
   "metadata": {},
   "outputs": [],
   "source": [
    "img_size = 256#538\n",
    "msk_size = 68#340\n",
    "\n",
    "epochs = 500\n",
    "batch_size = 32\n",
    "learning_rate = 0.2\n",
    "\n",
    "features = [16, 32, 64, 128, 256]"
   ]
  },
  {
   "cell_type": "code",
   "execution_count": null,
   "metadata": {},
   "outputs": [],
   "source": [
    "class CustomDataset(Dataset):\n",
    "    def __init__(self, img_dir, mask_dir, transform = None):\n",
    "        self.img = img_dir\n",
    "        self.mask = mask_dir\n",
    "        self.transform = transform\n",
    "        self.imgpath = os.listdir(img_dir)\n",
    "        self.mskpath = os.listdir(mask_dir)\n",
    "\n",
    "    def __len__(self):\n",
    "        return len(self.imgpath)\n",
    "        \n",
    "    \n",
    "    def __getitem__(self, index):\n",
    "        img_path = os.path.join(self.img, self.imgpath[index])\n",
    "        mask_path = os.path.join(self.mask, self.mskpath[index])\n",
    "\n",
    "        image = cv.resize(cv.imread(img_path,cv.IMREAD_GRAYSCALE),(img_size,img_size))\n",
    "        mask = cv.resize(cv.imread(mask_path,cv.IMREAD_GRAYSCALE),(msk_size,msk_size)) \n",
    "        \n",
    "        if self.transform:\n",
    "            image = self.transform(image)\n",
    "            mask = self.transform(mask)\n",
    "        \n",
    "        return (image, mask)"
   ]
  },
  {
   "cell_type": "code",
   "execution_count": null,
   "metadata": {},
   "outputs": [],
   "source": [
    "path_data_train = \"C:/Users/sonbu/Desktop/LVTN/Dataset/LiTS17/Images\"\n",
    "path_mask_train = \"C:/Users/sonbu/Desktop/LVTN/Dataset/LiTS17/Masks\"\n",
    "\n",
    "dataset = CustomDataset(img_dir = path_data_train, mask_dir = path_mask_train,transform = transforms.ToTensor())"
   ]
  },
  {
   "cell_type": "code",
   "execution_count": null,
   "metadata": {},
   "outputs": [],
   "source": [
    "train_size = int(0.8 * len(dataset))\n",
    "val_size = int(0.1 * len(dataset))\n",
    "test_size = len(dataset) - train_size - val_size\n",
    "\n",
    "train, val, test = torch.utils.data.random_split(dataset, [train_size, val_size, test_size])\n",
    "\n",
    "train_loader = torch.utils.data.DataLoader(train, batch_size=batch_size, shuffle=False)\n",
    "val_loader = torch.utils.data.DataLoader(val, batch_size=batch_size, shuffle=True)\n",
    "\n",
    "test_loader = torch.utils.data.DataLoader(test, batch_size=batch_size, shuffle=True)"
   ]
  },
  {
   "cell_type": "code",
   "execution_count": null,
   "metadata": {},
   "outputs": [],
   "source": [
    "class DoubleConv(nn.Module):\n",
    "    def __init__(self, in_channels, out_channels):\n",
    "        super(DoubleConv, self).__init__()\n",
    "        self.conv = nn.Sequential(\n",
    "            nn.Conv2d(in_channels, out_channels, kernel_size = 3, bias=False),\n",
    "            nn.BatchNorm2d(out_channels),\n",
    "            nn.ReLU(),\n",
    "            nn.Conv2d(out_channels, out_channels, kernel_size = 3, bias=False),\n",
    "            nn.BatchNorm2d(out_channels),\n",
    "            nn.ReLU(),\n",
    "        )\n",
    "\n",
    "    def forward(self, inputs):\n",
    "        return self.conv(inputs)"
   ]
  },
  {
   "cell_type": "code",
   "execution_count": null,
   "metadata": {},
   "outputs": [],
   "source": [
    "class Unet(nn.Module):\n",
    "    def __init__(self,in_c,out_c):\n",
    "        super().__init__()\n",
    "        self.maxpool = nn.MaxPool2d(kernel_size=2, stride=2)\n",
    "        \n",
    "        self.down1 = DoubleConv(in_c,features[0])\n",
    "        self.down2 = DoubleConv(features[0],features[1])\n",
    "        self.down3 = DoubleConv(features[1],features[2])\n",
    "        self.down4 = DoubleConv(features[2],features[3])\n",
    "        self.down5 = DoubleConv(features[3],features[4])\n",
    "\n",
    "        self.ConvT1 = nn.ConvTranspose2d(features[4],features[3], kernel_size=2, stride=2)\n",
    "        self.ConvT2 = nn.ConvTranspose2d(features[3],features[2], kernel_size=2, stride=2)\n",
    "        self.ConvT3 = nn.ConvTranspose2d(features[2],features[1], kernel_size=2, stride=2)\n",
    "        self.ConvT4 = nn.ConvTranspose2d(features[1],features[0], kernel_size=2, stride=2)\n",
    "        \n",
    "        self.up1 = DoubleConv(features[4],features[3])\n",
    "        self.up2 = DoubleConv(features[3],features[2])\n",
    "        self.up3 = DoubleConv(features[2],features[1])\n",
    "        self.up4 = DoubleConv(features[1],features[0])\n",
    "        \n",
    "        self.output = nn.Conv2d(features[0], out_c, kernel_size=1)\n",
    "    \n",
    "    def forward(self, inputs):\n",
    "        d1 = self.down1(inputs)\n",
    "        m1 = self.maxpool(d1)\n",
    "        \n",
    "        d2 = self.down2(m1)\n",
    "        m2 = self.maxpool(d2)\n",
    "        \n",
    "        d3 = self.down3(m2)\n",
    "        m3 = self.maxpool(d3)\n",
    "        \n",
    "        d4 = self.down4(m3)\n",
    "        m4 = self.maxpool(d4)\n",
    "        \n",
    "        d5 = self.down5(m4)\n",
    "    \n",
    "        bottleneck = self.ConvT1(d5)\n",
    "        c1 = TF.resize(d4,size = [bottleneck.shape[2],bottleneck.shape[2]])\n",
    "        u1 = self.up1(torch.cat([bottleneck,c1],1))\n",
    "        \n",
    "        u1 = self.ConvT2(u1)\n",
    "        c2 = TF.resize(d3,size = [u1.shape[2],u1.shape[2]])\n",
    "        u2 = self.up2(torch.cat([u1,c2],1))\n",
    "\n",
    "        u2 = self.ConvT3(u2)\n",
    "        c3 = TF.resize(d2,size = [u2.shape[2],u2.shape[2]])\n",
    "        u3 = self.up3(torch.cat([u2,c3],1))\n",
    "\n",
    "        u3 = self.ConvT4(u3)\n",
    "        c4 = TF.resize(d1,size = [u3.shape[2],u3.shape[2]])\n",
    "        u4 = self.up4(torch.cat([u3,c4],1))\n",
    "\n",
    "        output = self.output(u4)\n",
    "        return torch.sigmoid(output)"
   ]
  },
  {
   "cell_type": "code",
   "execution_count": null,
   "metadata": {},
   "outputs": [],
   "source": [
    "model = Unet(1,1).to(device)\n",
    "optimizer = optim.SGD(model.parameters(), lr=learning_rate)\n",
    "loss_func = nn.BCELoss()"
   ]
  },
  {
   "cell_type": "code",
   "execution_count": null,
   "metadata": {},
   "outputs": [],
   "source": [
    "train_losses, val_losses = [], []\n",
    "\n",
    "for epoch in range(epochs):\n",
    "    start = time.time()\n",
    "    \n",
    "    train_loss = 0.0\n",
    "    model.train()\n",
    "    for batch_idx, (data, label) in enumerate((train_loader)):\n",
    "        data, label = data.to(device), label.to(device)\n",
    "        optimizer.zero_grad()\n",
    "        pred = model(data) \n",
    "        loss = loss_func(pred, label)\n",
    "        loss.backward()\n",
    "        optimizer.step()\n",
    "            \n",
    "        train_loss += loss.item() / len(train_loader)   \n",
    "\n",
    "    train_losses.append(train_loss)\n",
    "\n",
    "    val_loss = 0.0\n",
    "    model.eval()\n",
    "    with torch.no_grad():\n",
    "        for batch_idx, (data, label) in enumerate((val_loader)):\n",
    "            data, label = data.to(device), label.to(device)\n",
    "            pred = model(data) \n",
    "            loss = loss_func(pred, label)\n",
    "            val_loss += loss.item() / len(val_loader)\n",
    "            \n",
    "    val_losses.append(val_loss)\n",
    "    \n",
    "    end = time.time()\n",
    "\n",
    "    print('Epoch: [{:4}/{:4}] - Train loss: {:.4f} - Val loss: {:.4f} - Time: {:.2f}'.format(epoch + 1, epochs, train_loss, val_loss, end - start))"
   ]
  },
  {
   "cell_type": "code",
   "execution_count": null,
   "metadata": {},
   "outputs": [],
   "source": [
    "plt.plot(train_losses, label='Train loss')\n",
    "plt.plot(val_losses, label='Val loss')\n",
    "plt.legend()\n",
    "plt.show()\n"
   ]
  },
  {
   "cell_type": "code",
   "execution_count": null,
   "metadata": {},
   "outputs": [],
   "source": [
    "#torch.save(model.state_dict(), 'C:/Users/sonbu/Desktop/LVTN/Model/Unet/Unet_LiTS17.pt')"
   ]
  },
  {
   "cell_type": "code",
   "execution_count": null,
   "metadata": {},
   "outputs": [],
   "source": [
    "model.eval()\n",
    "\n",
    "with torch.no_grad():\n",
    "    for batch_idx, (data, label) in enumerate((train_loader)):\n",
    "        \n",
    "        data, label = data.to(device), label.to(device)\n",
    "        \n",
    "        pred = model(data) \n",
    "        loss = loss_func(pred, label)\n",
    "\n",
    "        plt.figure()\n",
    "        plt.subplot(131)\n",
    "        plt.title(\"Ảnh gốc\")\n",
    "        plt.imshow(data[0].view(img_size, img_size).cpu().detach().numpy())\n",
    "        plt.subplot(132)\n",
    "        plt.title(\"Ground Truth\")\n",
    "        plt.imshow(label[0].view(msk_size, msk_size).cpu().detach().numpy(), cmap='gray')\n",
    "        plt.subplot(133)\n",
    "        plt.title(\"Predicted\")\n",
    "        plt.imshow(pred[0].view(msk_size, msk_size).cpu().detach().numpy(), cmap='gray')\n",
    "        plt.show()"
   ]
  }
 ],
 "metadata": {
  "kernelspec": {
   "display_name": "Python 3.10.8 64-bit",
   "language": "python",
   "name": "python3"
  },
  "language_info": {
   "codemirror_mode": {
    "name": "ipython",
    "version": 3
   },
   "file_extension": ".py",
   "mimetype": "text/x-python",
   "name": "python",
   "nbconvert_exporter": "python",
   "pygments_lexer": "ipython3",
   "version": "3.10.8"
  },
  "orig_nbformat": 4,
  "vscode": {
   "interpreter": {
    "hash": "fbbb231911cbce89021b44f8f04d4dc79a724c42e2e803ebfe8a7109727b58ea"
   }
  }
 },
 "nbformat": 4,
 "nbformat_minor": 2
}
